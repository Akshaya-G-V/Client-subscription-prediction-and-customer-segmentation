{
 "cells": [
  {
   "cell_type": "code",
   "execution_count": 33,
   "id": "b0943b92",
   "metadata": {},
   "outputs": [],
   "source": [
    "import pandas as pd\n",
    "import numpy as np\n",
    "import seaborn as sns\n",
    "import matplotlib.pyplot as plt\n",
    "from warnings import filterwarnings\n",
    "filterwarnings('ignore')\n",
    "from sklearn.preprocessing import MinMaxScaler,StandardScaler,RobustScaler\n",
    "from sklearn.model_selection import train_test_split\n",
    "from sklearn.tree import DecisionTreeClassifier\n",
    "from sklearn import tree\n",
    "from sklearn.model_selection import GridSearchCV, RandomizedSearchCV, cross_val_score\n",
    "\n",
    "from sklearn.metrics import confusion_matrix\n",
    "import statsmodels.api as sm\n",
    "\n",
    "from sklearn.preprocessing import StandardScaler, PowerTransformer, LabelEncoder\n",
    "\n",
    "from sklearn import metrics\n",
    "from sklearn.linear_model import LogisticRegression\n",
    "from sklearn.metrics import classification_report\n",
    "from sklearn.metrics import cohen_kappa_score\n",
    "from sklearn.metrics import confusion_matrix, ConfusionMatrixDisplay\n",
    "from sklearn.metrics import roc_curve\n",
    "from sklearn.metrics import accuracy_score\n",
    "from sklearn import metrics\n",
    "\n",
    "import matplotlib.pyplot as plt\n",
    "from matplotlib.colors import ListedColormap\n",
    "\n",
    "from sklearn.feature_selection import RFE\n",
    "\n",
    "from sklearn.metrics import classification_report,f1_score,recall_score,precision_score,accuracy_score,roc_auc_score\n",
    "from sklearn.metrics import ConfusionMatrixDisplay \n",
    "from sklearn.linear_model import LogisticRegression\n",
    "from sklearn.metrics import f1_score\n",
    "from sklearn.neighbors import KNeighborsClassifier\n",
    "from sklearn.naive_bayes import GaussianNB,BernoulliNB,MultinomialNB\n",
    "from sklearn.ensemble import RandomForestClassifier\n",
    "from sklearn.ensemble import BaggingClassifier\n",
    "from sklearn.ensemble import AdaBoostClassifier,GradientBoostingClassifier\n",
    "from xgboost import XGBClassifier\n",
    "from sklearn.ensemble import StackingClassifier\n",
    "from sklearn.feature_selection import RFE\n",
    "from mlxtend.feature_selection import SequentialFeatureSelector as SFS\n",
    "from sklearn.feature_selection import SelectFromModel\n",
    "from scipy import stats\n",
    "import statistics\n",
    "from sklearn.utils import resample"
   ]
  },
  {
   "cell_type": "code",
   "execution_count": 2,
   "id": "db116734",
   "metadata": {},
   "outputs": [],
   "source": [
    "train=pd.read_csv('bank-full.csv',sep=';')\n",
    "test=pd.read_csv('bank.csv',sep=';')"
   ]
  },
  {
   "cell_type": "code",
   "execution_count": 3,
   "id": "f5678bfd",
   "metadata": {},
   "outputs": [],
   "source": [
    "df=train.append(test)"
   ]
  },
  {
   "cell_type": "code",
   "execution_count": 4,
   "id": "8d196a17",
   "metadata": {},
   "outputs": [],
   "source": [
    "df.job.replace({'unknown':'student'},inplace=True)"
   ]
  },
  {
   "cell_type": "code",
   "execution_count": 5,
   "id": "6fc4d9b6",
   "metadata": {},
   "outputs": [],
   "source": [
    "for i in df.job.unique():\n",
    "    mode = list(df[df['job']==i].education.mode())\n",
    "    df['education'] = df.apply(lambda x: mode[0] if x.education == 'unknown' and x.job == i else x.education, axis=1)"
   ]
  },
  {
   "cell_type": "code",
   "execution_count": 6,
   "id": "18f6af44",
   "metadata": {},
   "outputs": [],
   "source": [
    "df.drop(['poutcome','contact'],axis=1,inplace=True)\n",
    "df['day']=df['day'].astype(object)"
   ]
  },
  {
   "cell_type": "code",
   "execution_count": 7,
   "id": "92142af4",
   "metadata": {},
   "outputs": [
    {
     "name": "stdout",
     "output_type": "stream",
     "text": [
      "<class 'pandas.core.frame.DataFrame'>\n",
      "Int64Index: 49732 entries, 0 to 4520\n",
      "Data columns (total 15 columns):\n",
      " #   Column     Non-Null Count  Dtype \n",
      "---  ------     --------------  ----- \n",
      " 0   age        49732 non-null  int64 \n",
      " 1   job        49732 non-null  object\n",
      " 2   marital    49732 non-null  object\n",
      " 3   education  49732 non-null  object\n",
      " 4   default    49732 non-null  object\n",
      " 5   balance    49732 non-null  int64 \n",
      " 6   housing    49732 non-null  object\n",
      " 7   loan       49732 non-null  object\n",
      " 8   day        49732 non-null  object\n",
      " 9   month      49732 non-null  object\n",
      " 10  duration   49732 non-null  int64 \n",
      " 11  campaign   49732 non-null  int64 \n",
      " 12  pdays      49732 non-null  int64 \n",
      " 13  previous   49732 non-null  int64 \n",
      " 14  y          49732 non-null  object\n",
      "dtypes: int64(6), object(9)\n",
      "memory usage: 6.1+ MB\n"
     ]
    }
   ],
   "source": [
    "df.info()"
   ]
  },
  {
   "cell_type": "code",
   "execution_count": 8,
   "id": "bfe83bb6",
   "metadata": {},
   "outputs": [
    {
     "data": {
      "text/plain": [
       "age          0.686033\n",
       "balance      8.204429\n",
       "day          0.093154\n",
       "duration     3.109530\n",
       "campaign     4.884266\n",
       "pdays        2.624838\n",
       "previous    40.783648\n",
       "dtype: float64"
      ]
     },
     "execution_count": 8,
     "metadata": {},
     "output_type": "execute_result"
    }
   ],
   "source": [
    "df.skew()"
   ]
  },
  {
   "cell_type": "code",
   "execution_count": 9,
   "id": "3373a027",
   "metadata": {},
   "outputs": [],
   "source": [
    "df1=df.copy()\n",
    "pt=PowerTransformer(method='yeo-johnson')\n",
    "for i in df.select_dtypes(np.number).columns:\n",
    "    df1[i]=pt.fit_transform(df1[[i]])"
   ]
  },
  {
   "cell_type": "code",
   "execution_count": 10,
   "id": "c306c2ed",
   "metadata": {},
   "outputs": [],
   "source": [
    "ss=StandardScaler()\n",
    "for i in df1.select_dtypes(np.number).columns:\n",
    "    df1[i]=ss.fit_transform(df1[[i]])"
   ]
  },
  {
   "cell_type": "code",
   "execution_count": 11,
   "id": "2fe73214",
   "metadata": {},
   "outputs": [
    {
     "data": {
      "text/html": [
       "<div>\n",
       "<style scoped>\n",
       "    .dataframe tbody tr th:only-of-type {\n",
       "        vertical-align: middle;\n",
       "    }\n",
       "\n",
       "    .dataframe tbody tr th {\n",
       "        vertical-align: top;\n",
       "    }\n",
       "\n",
       "    .dataframe thead th {\n",
       "        text-align: right;\n",
       "    }\n",
       "</style>\n",
       "<table border=\"1\" class=\"dataframe\">\n",
       "  <thead>\n",
       "    <tr style=\"text-align: right;\">\n",
       "      <th></th>\n",
       "      <th>age</th>\n",
       "      <th>job</th>\n",
       "      <th>marital</th>\n",
       "      <th>education</th>\n",
       "      <th>default</th>\n",
       "      <th>balance</th>\n",
       "      <th>housing</th>\n",
       "      <th>loan</th>\n",
       "      <th>day</th>\n",
       "      <th>month</th>\n",
       "      <th>duration</th>\n",
       "      <th>campaign</th>\n",
       "      <th>pdays</th>\n",
       "      <th>previous</th>\n",
       "      <th>y</th>\n",
       "    </tr>\n",
       "  </thead>\n",
       "  <tbody>\n",
       "    <tr>\n",
       "      <th>0</th>\n",
       "      <td>58</td>\n",
       "      <td>management</td>\n",
       "      <td>married</td>\n",
       "      <td>tertiary</td>\n",
       "      <td>no</td>\n",
       "      <td>2143</td>\n",
       "      <td>yes</td>\n",
       "      <td>no</td>\n",
       "      <td>5</td>\n",
       "      <td>may</td>\n",
       "      <td>261</td>\n",
       "      <td>1</td>\n",
       "      <td>-1</td>\n",
       "      <td>0</td>\n",
       "      <td>no</td>\n",
       "    </tr>\n",
       "    <tr>\n",
       "      <th>1</th>\n",
       "      <td>44</td>\n",
       "      <td>technician</td>\n",
       "      <td>single</td>\n",
       "      <td>secondary</td>\n",
       "      <td>no</td>\n",
       "      <td>29</td>\n",
       "      <td>yes</td>\n",
       "      <td>no</td>\n",
       "      <td>5</td>\n",
       "      <td>may</td>\n",
       "      <td>151</td>\n",
       "      <td>1</td>\n",
       "      <td>-1</td>\n",
       "      <td>0</td>\n",
       "      <td>no</td>\n",
       "    </tr>\n",
       "    <tr>\n",
       "      <th>2</th>\n",
       "      <td>33</td>\n",
       "      <td>entrepreneur</td>\n",
       "      <td>married</td>\n",
       "      <td>secondary</td>\n",
       "      <td>no</td>\n",
       "      <td>2</td>\n",
       "      <td>yes</td>\n",
       "      <td>yes</td>\n",
       "      <td>5</td>\n",
       "      <td>may</td>\n",
       "      <td>76</td>\n",
       "      <td>1</td>\n",
       "      <td>-1</td>\n",
       "      <td>0</td>\n",
       "      <td>no</td>\n",
       "    </tr>\n",
       "    <tr>\n",
       "      <th>3</th>\n",
       "      <td>47</td>\n",
       "      <td>blue-collar</td>\n",
       "      <td>married</td>\n",
       "      <td>secondary</td>\n",
       "      <td>no</td>\n",
       "      <td>1506</td>\n",
       "      <td>yes</td>\n",
       "      <td>no</td>\n",
       "      <td>5</td>\n",
       "      <td>may</td>\n",
       "      <td>92</td>\n",
       "      <td>1</td>\n",
       "      <td>-1</td>\n",
       "      <td>0</td>\n",
       "      <td>no</td>\n",
       "    </tr>\n",
       "    <tr>\n",
       "      <th>4</th>\n",
       "      <td>33</td>\n",
       "      <td>student</td>\n",
       "      <td>single</td>\n",
       "      <td>secondary</td>\n",
       "      <td>no</td>\n",
       "      <td>1</td>\n",
       "      <td>no</td>\n",
       "      <td>no</td>\n",
       "      <td>5</td>\n",
       "      <td>may</td>\n",
       "      <td>198</td>\n",
       "      <td>1</td>\n",
       "      <td>-1</td>\n",
       "      <td>0</td>\n",
       "      <td>no</td>\n",
       "    </tr>\n",
       "    <tr>\n",
       "      <th>...</th>\n",
       "      <td>...</td>\n",
       "      <td>...</td>\n",
       "      <td>...</td>\n",
       "      <td>...</td>\n",
       "      <td>...</td>\n",
       "      <td>...</td>\n",
       "      <td>...</td>\n",
       "      <td>...</td>\n",
       "      <td>...</td>\n",
       "      <td>...</td>\n",
       "      <td>...</td>\n",
       "      <td>...</td>\n",
       "      <td>...</td>\n",
       "      <td>...</td>\n",
       "      <td>...</td>\n",
       "    </tr>\n",
       "    <tr>\n",
       "      <th>4516</th>\n",
       "      <td>33</td>\n",
       "      <td>services</td>\n",
       "      <td>married</td>\n",
       "      <td>secondary</td>\n",
       "      <td>no</td>\n",
       "      <td>-333</td>\n",
       "      <td>yes</td>\n",
       "      <td>no</td>\n",
       "      <td>30</td>\n",
       "      <td>jul</td>\n",
       "      <td>329</td>\n",
       "      <td>5</td>\n",
       "      <td>-1</td>\n",
       "      <td>0</td>\n",
       "      <td>no</td>\n",
       "    </tr>\n",
       "    <tr>\n",
       "      <th>4517</th>\n",
       "      <td>57</td>\n",
       "      <td>self-employed</td>\n",
       "      <td>married</td>\n",
       "      <td>tertiary</td>\n",
       "      <td>yes</td>\n",
       "      <td>-3313</td>\n",
       "      <td>yes</td>\n",
       "      <td>yes</td>\n",
       "      <td>9</td>\n",
       "      <td>may</td>\n",
       "      <td>153</td>\n",
       "      <td>1</td>\n",
       "      <td>-1</td>\n",
       "      <td>0</td>\n",
       "      <td>no</td>\n",
       "    </tr>\n",
       "    <tr>\n",
       "      <th>4518</th>\n",
       "      <td>57</td>\n",
       "      <td>technician</td>\n",
       "      <td>married</td>\n",
       "      <td>secondary</td>\n",
       "      <td>no</td>\n",
       "      <td>295</td>\n",
       "      <td>no</td>\n",
       "      <td>no</td>\n",
       "      <td>19</td>\n",
       "      <td>aug</td>\n",
       "      <td>151</td>\n",
       "      <td>11</td>\n",
       "      <td>-1</td>\n",
       "      <td>0</td>\n",
       "      <td>no</td>\n",
       "    </tr>\n",
       "    <tr>\n",
       "      <th>4519</th>\n",
       "      <td>28</td>\n",
       "      <td>blue-collar</td>\n",
       "      <td>married</td>\n",
       "      <td>secondary</td>\n",
       "      <td>no</td>\n",
       "      <td>1137</td>\n",
       "      <td>no</td>\n",
       "      <td>no</td>\n",
       "      <td>6</td>\n",
       "      <td>feb</td>\n",
       "      <td>129</td>\n",
       "      <td>4</td>\n",
       "      <td>211</td>\n",
       "      <td>3</td>\n",
       "      <td>no</td>\n",
       "    </tr>\n",
       "    <tr>\n",
       "      <th>4520</th>\n",
       "      <td>44</td>\n",
       "      <td>entrepreneur</td>\n",
       "      <td>single</td>\n",
       "      <td>tertiary</td>\n",
       "      <td>no</td>\n",
       "      <td>1136</td>\n",
       "      <td>yes</td>\n",
       "      <td>yes</td>\n",
       "      <td>3</td>\n",
       "      <td>apr</td>\n",
       "      <td>345</td>\n",
       "      <td>2</td>\n",
       "      <td>249</td>\n",
       "      <td>7</td>\n",
       "      <td>no</td>\n",
       "    </tr>\n",
       "  </tbody>\n",
       "</table>\n",
       "<p>49732 rows × 15 columns</p>\n",
       "</div>"
      ],
      "text/plain": [
       "      age            job  marital  education default  balance housing loan  \\\n",
       "0      58     management  married   tertiary      no     2143     yes   no   \n",
       "1      44     technician   single  secondary      no       29     yes   no   \n",
       "2      33   entrepreneur  married  secondary      no        2     yes  yes   \n",
       "3      47    blue-collar  married  secondary      no     1506     yes   no   \n",
       "4      33        student   single  secondary      no        1      no   no   \n",
       "...   ...            ...      ...        ...     ...      ...     ...  ...   \n",
       "4516   33       services  married  secondary      no     -333     yes   no   \n",
       "4517   57  self-employed  married   tertiary     yes    -3313     yes  yes   \n",
       "4518   57     technician  married  secondary      no      295      no   no   \n",
       "4519   28    blue-collar  married  secondary      no     1137      no   no   \n",
       "4520   44   entrepreneur   single   tertiary      no     1136     yes  yes   \n",
       "\n",
       "     day month  duration  campaign  pdays  previous   y  \n",
       "0      5   may       261         1     -1         0  no  \n",
       "1      5   may       151         1     -1         0  no  \n",
       "2      5   may        76         1     -1         0  no  \n",
       "3      5   may        92         1     -1         0  no  \n",
       "4      5   may       198         1     -1         0  no  \n",
       "...   ..   ...       ...       ...    ...       ...  ..  \n",
       "4516  30   jul       329         5     -1         0  no  \n",
       "4517   9   may       153         1     -1         0  no  \n",
       "4518  19   aug       151        11     -1         0  no  \n",
       "4519   6   feb       129         4    211         3  no  \n",
       "4520   3   apr       345         2    249         7  no  \n",
       "\n",
       "[49732 rows x 15 columns]"
      ]
     },
     "execution_count": 11,
     "metadata": {},
     "output_type": "execute_result"
    }
   ],
   "source": [
    "df"
   ]
  },
  {
   "cell_type": "code",
   "execution_count": 12,
   "id": "893110c3",
   "metadata": {},
   "outputs": [
    {
     "data": {
      "text/html": [
       "<div>\n",
       "<style scoped>\n",
       "    .dataframe tbody tr th:only-of-type {\n",
       "        vertical-align: middle;\n",
       "    }\n",
       "\n",
       "    .dataframe tbody tr th {\n",
       "        vertical-align: top;\n",
       "    }\n",
       "\n",
       "    .dataframe thead th {\n",
       "        text-align: right;\n",
       "    }\n",
       "</style>\n",
       "<table border=\"1\" class=\"dataframe\">\n",
       "  <thead>\n",
       "    <tr style=\"text-align: right;\">\n",
       "      <th></th>\n",
       "      <th>age</th>\n",
       "      <th>job</th>\n",
       "      <th>marital</th>\n",
       "      <th>education</th>\n",
       "      <th>default</th>\n",
       "      <th>balance</th>\n",
       "      <th>housing</th>\n",
       "      <th>loan</th>\n",
       "      <th>day</th>\n",
       "      <th>month</th>\n",
       "      <th>duration</th>\n",
       "      <th>campaign</th>\n",
       "      <th>pdays</th>\n",
       "      <th>previous</th>\n",
       "      <th>y</th>\n",
       "    </tr>\n",
       "  </thead>\n",
       "  <tbody>\n",
       "    <tr>\n",
       "      <th>0</th>\n",
       "      <td>1.472673</td>\n",
       "      <td>management</td>\n",
       "      <td>married</td>\n",
       "      <td>tertiary</td>\n",
       "      <td>no</td>\n",
       "      <td>0.413470</td>\n",
       "      <td>yes</td>\n",
       "      <td>no</td>\n",
       "      <td>5</td>\n",
       "      <td>may</td>\n",
       "      <td>0.383602</td>\n",
       "      <td>-1.108763</td>\n",
       "      <td>-0.472220</td>\n",
       "      <td>-0.472194</td>\n",
       "      <td>no</td>\n",
       "    </tr>\n",
       "    <tr>\n",
       "      <th>1</th>\n",
       "      <td>0.427770</td>\n",
       "      <td>technician</td>\n",
       "      <td>single</td>\n",
       "      <td>secondary</td>\n",
       "      <td>no</td>\n",
       "      <td>-0.411915</td>\n",
       "      <td>yes</td>\n",
       "      <td>no</td>\n",
       "      <td>5</td>\n",
       "      <td>may</td>\n",
       "      <td>-0.224536</td>\n",
       "      <td>-1.108763</td>\n",
       "      <td>-0.472220</td>\n",
       "      <td>-0.472194</td>\n",
       "      <td>no</td>\n",
       "    </tr>\n",
       "    <tr>\n",
       "      <th>2</th>\n",
       "      <td>-0.712899</td>\n",
       "      <td>entrepreneur</td>\n",
       "      <td>married</td>\n",
       "      <td>secondary</td>\n",
       "      <td>no</td>\n",
       "      <td>-0.432287</td>\n",
       "      <td>yes</td>\n",
       "      <td>yes</td>\n",
       "      <td>5</td>\n",
       "      <td>may</td>\n",
       "      <td>-0.923914</td>\n",
       "      <td>-1.108763</td>\n",
       "      <td>-0.472220</td>\n",
       "      <td>-0.472194</td>\n",
       "      <td>no</td>\n",
       "    </tr>\n",
       "    <tr>\n",
       "      <th>3</th>\n",
       "      <td>0.681734</td>\n",
       "      <td>blue-collar</td>\n",
       "      <td>married</td>\n",
       "      <td>secondary</td>\n",
       "      <td>no</td>\n",
       "      <td>0.196492</td>\n",
       "      <td>yes</td>\n",
       "      <td>no</td>\n",
       "      <td>5</td>\n",
       "      <td>may</td>\n",
       "      <td>-0.736161</td>\n",
       "      <td>-1.108763</td>\n",
       "      <td>-0.472220</td>\n",
       "      <td>-0.472194</td>\n",
       "      <td>no</td>\n",
       "    </tr>\n",
       "    <tr>\n",
       "      <th>4</th>\n",
       "      <td>-0.712899</td>\n",
       "      <td>student</td>\n",
       "      <td>single</td>\n",
       "      <td>secondary</td>\n",
       "      <td>no</td>\n",
       "      <td>-0.433286</td>\n",
       "      <td>no</td>\n",
       "      <td>no</td>\n",
       "      <td>5</td>\n",
       "      <td>may</td>\n",
       "      <td>0.070806</td>\n",
       "      <td>-1.108763</td>\n",
       "      <td>-0.472220</td>\n",
       "      <td>-0.472194</td>\n",
       "      <td>no</td>\n",
       "    </tr>\n",
       "    <tr>\n",
       "      <th>...</th>\n",
       "      <td>...</td>\n",
       "      <td>...</td>\n",
       "      <td>...</td>\n",
       "      <td>...</td>\n",
       "      <td>...</td>\n",
       "      <td>...</td>\n",
       "      <td>...</td>\n",
       "      <td>...</td>\n",
       "      <td>...</td>\n",
       "      <td>...</td>\n",
       "      <td>...</td>\n",
       "      <td>...</td>\n",
       "      <td>...</td>\n",
       "      <td>...</td>\n",
       "      <td>...</td>\n",
       "    </tr>\n",
       "    <tr>\n",
       "      <th>4516</th>\n",
       "      <td>-0.712899</td>\n",
       "      <td>services</td>\n",
       "      <td>married</td>\n",
       "      <td>secondary</td>\n",
       "      <td>no</td>\n",
       "      <td>-1.291730</td>\n",
       "      <td>yes</td>\n",
       "      <td>no</td>\n",
       "      <td>30</td>\n",
       "      <td>jul</td>\n",
       "      <td>0.655145</td>\n",
       "      <td>1.322491</td>\n",
       "      <td>-0.472220</td>\n",
       "      <td>-0.472194</td>\n",
       "      <td>no</td>\n",
       "    </tr>\n",
       "    <tr>\n",
       "      <th>4517</th>\n",
       "      <td>1.408342</td>\n",
       "      <td>self-employed</td>\n",
       "      <td>married</td>\n",
       "      <td>tertiary</td>\n",
       "      <td>yes</td>\n",
       "      <td>-12.816819</td>\n",
       "      <td>yes</td>\n",
       "      <td>yes</td>\n",
       "      <td>9</td>\n",
       "      <td>may</td>\n",
       "      <td>-0.210453</td>\n",
       "      <td>-1.108763</td>\n",
       "      <td>-0.472220</td>\n",
       "      <td>-0.472194</td>\n",
       "      <td>no</td>\n",
       "    </tr>\n",
       "    <tr>\n",
       "      <th>4518</th>\n",
       "      <td>1.408342</td>\n",
       "      <td>technician</td>\n",
       "      <td>married</td>\n",
       "      <td>secondary</td>\n",
       "      <td>no</td>\n",
       "      <td>-0.273813</td>\n",
       "      <td>no</td>\n",
       "      <td>no</td>\n",
       "      <td>19</td>\n",
       "      <td>aug</td>\n",
       "      <td>-0.224536</td>\n",
       "      <td>1.883502</td>\n",
       "      <td>-0.472220</td>\n",
       "      <td>-0.472194</td>\n",
       "      <td>no</td>\n",
       "    </tr>\n",
       "    <tr>\n",
       "      <th>4519</th>\n",
       "      <td>-1.388333</td>\n",
       "      <td>blue-collar</td>\n",
       "      <td>married</td>\n",
       "      <td>secondary</td>\n",
       "      <td>no</td>\n",
       "      <td>0.064063</td>\n",
       "      <td>no</td>\n",
       "      <td>no</td>\n",
       "      <td>6</td>\n",
       "      <td>feb</td>\n",
       "      <td>-0.391055</td>\n",
       "      <td>1.090458</td>\n",
       "      <td>2.127955</td>\n",
       "      <td>2.167852</td>\n",
       "      <td>no</td>\n",
       "    </tr>\n",
       "    <tr>\n",
       "      <th>4520</th>\n",
       "      <td>0.427770</td>\n",
       "      <td>entrepreneur</td>\n",
       "      <td>single</td>\n",
       "      <td>tertiary</td>\n",
       "      <td>no</td>\n",
       "      <td>0.063695</td>\n",
       "      <td>yes</td>\n",
       "      <td>yes</td>\n",
       "      <td>3</td>\n",
       "      <td>apr</td>\n",
       "      <td>0.711917</td>\n",
       "      <td>0.133431</td>\n",
       "      <td>2.132499</td>\n",
       "      <td>2.176206</td>\n",
       "      <td>no</td>\n",
       "    </tr>\n",
       "  </tbody>\n",
       "</table>\n",
       "<p>49732 rows × 15 columns</p>\n",
       "</div>"
      ],
      "text/plain": [
       "           age            job  marital  education default    balance housing  \\\n",
       "0     1.472673     management  married   tertiary      no   0.413470     yes   \n",
       "1     0.427770     technician   single  secondary      no  -0.411915     yes   \n",
       "2    -0.712899   entrepreneur  married  secondary      no  -0.432287     yes   \n",
       "3     0.681734    blue-collar  married  secondary      no   0.196492     yes   \n",
       "4    -0.712899        student   single  secondary      no  -0.433286      no   \n",
       "...        ...            ...      ...        ...     ...        ...     ...   \n",
       "4516 -0.712899       services  married  secondary      no  -1.291730     yes   \n",
       "4517  1.408342  self-employed  married   tertiary     yes -12.816819     yes   \n",
       "4518  1.408342     technician  married  secondary      no  -0.273813      no   \n",
       "4519 -1.388333    blue-collar  married  secondary      no   0.064063      no   \n",
       "4520  0.427770   entrepreneur   single   tertiary      no   0.063695     yes   \n",
       "\n",
       "     loan day month  duration  campaign     pdays  previous   y  \n",
       "0      no   5   may  0.383602 -1.108763 -0.472220 -0.472194  no  \n",
       "1      no   5   may -0.224536 -1.108763 -0.472220 -0.472194  no  \n",
       "2     yes   5   may -0.923914 -1.108763 -0.472220 -0.472194  no  \n",
       "3      no   5   may -0.736161 -1.108763 -0.472220 -0.472194  no  \n",
       "4      no   5   may  0.070806 -1.108763 -0.472220 -0.472194  no  \n",
       "...   ...  ..   ...       ...       ...       ...       ...  ..  \n",
       "4516   no  30   jul  0.655145  1.322491 -0.472220 -0.472194  no  \n",
       "4517  yes   9   may -0.210453 -1.108763 -0.472220 -0.472194  no  \n",
       "4518   no  19   aug -0.224536  1.883502 -0.472220 -0.472194  no  \n",
       "4519   no   6   feb -0.391055  1.090458  2.127955  2.167852  no  \n",
       "4520  yes   3   apr  0.711917  0.133431  2.132499  2.176206  no  \n",
       "\n",
       "[49732 rows x 15 columns]"
      ]
     },
     "execution_count": 12,
     "metadata": {},
     "output_type": "execute_result"
    }
   ],
   "source": [
    "df1"
   ]
  },
  {
   "cell_type": "code",
   "execution_count": 13,
   "id": "6ea8bc7a",
   "metadata": {},
   "outputs": [],
   "source": [
    "c=df1.select_dtypes(object)\n",
    "n=df1.select_dtypes(np.number)"
   ]
  },
  {
   "cell_type": "code",
   "execution_count": 14,
   "id": "b12666bc",
   "metadata": {},
   "outputs": [],
   "source": [
    "le=LabelEncoder()\n",
    "for i in c.columns:\n",
    "    c[i]=le.fit_transform(c[[i]])"
   ]
  },
  {
   "cell_type": "code",
   "execution_count": 15,
   "id": "71b10600",
   "metadata": {},
   "outputs": [],
   "source": [
    "df2=pd.concat([n,c],axis=1)"
   ]
  },
  {
   "cell_type": "code",
   "execution_count": 16,
   "id": "58013184",
   "metadata": {},
   "outputs": [
    {
     "data": {
      "text/plain": [
       "0    43922\n",
       "1     5810\n",
       "Name: y, dtype: int64"
      ]
     },
     "execution_count": 16,
     "metadata": {},
     "output_type": "execute_result"
    }
   ],
   "source": [
    "df2.y.value_counts()"
   ]
  },
  {
   "cell_type": "code",
   "execution_count": 17,
   "id": "126977e3",
   "metadata": {},
   "outputs": [],
   "source": [
    "n=df2[df2['y']==0]\n",
    "y=df2[df2['y']==1]"
   ]
  },
  {
   "cell_type": "code",
   "execution_count": 18,
   "id": "72dc5963",
   "metadata": {},
   "outputs": [],
   "source": [
    "y_re = resample(y,\n",
    "             replace=True,\n",
    "             n_samples=round((len(n)*30)/100),\n",
    "             random_state=1)\n",
    "n_re=resample(n,\n",
    "             replace=True,\n",
    "             n_samples=round((len(n)*70)/100),\n",
    "             random_state=1)"
   ]
  },
  {
   "cell_type": "code",
   "execution_count": 19,
   "id": "d020ca67",
   "metadata": {},
   "outputs": [
    {
     "data": {
      "text/plain": [
       "0    30745\n",
       "1    13177\n",
       "Name: y, dtype: int64"
      ]
     },
     "execution_count": 19,
     "metadata": {},
     "output_type": "execute_result"
    }
   ],
   "source": [
    "df3=pd.concat([n_re,y_re])\n",
    "df3.y.value_counts()"
   ]
  },
  {
   "cell_type": "code",
   "execution_count": 20,
   "id": "aea837ac",
   "metadata": {},
   "outputs": [],
   "source": [
    "x=df3.drop('y',axis=1)\n",
    "y=df3['y']\n",
    "xtrain,xtest,ytrain,ytest=train_test_split(x,y,random_state=10,test_size=0.3)"
   ]
  },
  {
   "cell_type": "markdown",
   "id": "5fc90bc8",
   "metadata": {},
   "source": [
    "### Base model building"
   ]
  },
  {
   "cell_type": "code",
   "execution_count": 21,
   "id": "2bbc049e",
   "metadata": {},
   "outputs": [
    {
     "name": "stdout",
     "output_type": "stream",
     "text": [
      "Fitting the model ... Logreg\n",
      "Fitting the model ... Naive Bayes\n",
      "Fitting the model ... Decision Tree\n",
      "Fitting the model ... RandomForest\n",
      "Fitting the model ... GradientBoost\n",
      "Fitting the model ... Xgboost\n",
      "Fitting the model ... GaussianNB\n",
      "Fitting the model ... KNN\n"
     ]
    },
    {
     "data": {
      "text/html": [
       "<div>\n",
       "<style scoped>\n",
       "    .dataframe tbody tr th:only-of-type {\n",
       "        vertical-align: middle;\n",
       "    }\n",
       "\n",
       "    .dataframe tbody tr th {\n",
       "        vertical-align: top;\n",
       "    }\n",
       "\n",
       "    .dataframe thead th {\n",
       "        text-align: right;\n",
       "    }\n",
       "</style>\n",
       "<table border=\"1\" class=\"dataframe\">\n",
       "  <thead>\n",
       "    <tr style=\"text-align: right;\">\n",
       "      <th></th>\n",
       "      <th>model name</th>\n",
       "      <th>accuracy</th>\n",
       "      <th>recall</th>\n",
       "      <th>precision</th>\n",
       "      <th>f1</th>\n",
       "    </tr>\n",
       "  </thead>\n",
       "  <tbody>\n",
       "    <tr>\n",
       "      <th>3</th>\n",
       "      <td>RandomForest</td>\n",
       "      <td>0.944449</td>\n",
       "      <td>0.929595</td>\n",
       "      <td>0.888209</td>\n",
       "      <td>0.908431</td>\n",
       "    </tr>\n",
       "    <tr>\n",
       "      <th>2</th>\n",
       "      <td>Decision Tree</td>\n",
       "      <td>0.927601</td>\n",
       "      <td>0.918587</td>\n",
       "      <td>0.849432</td>\n",
       "      <td>0.882657</td>\n",
       "    </tr>\n",
       "    <tr>\n",
       "      <th>5</th>\n",
       "      <td>Xgboost</td>\n",
       "      <td>0.910754</td>\n",
       "      <td>0.868408</td>\n",
       "      <td>0.836704</td>\n",
       "      <td>0.852261</td>\n",
       "    </tr>\n",
       "    <tr>\n",
       "      <th>7</th>\n",
       "      <td>KNN</td>\n",
       "      <td>0.860135</td>\n",
       "      <td>0.763953</td>\n",
       "      <td>0.764149</td>\n",
       "      <td>0.764051</td>\n",
       "    </tr>\n",
       "    <tr>\n",
       "      <th>4</th>\n",
       "      <td>GradientBoost</td>\n",
       "      <td>0.844502</td>\n",
       "      <td>0.716590</td>\n",
       "      <td>0.748196</td>\n",
       "      <td>0.732052</td>\n",
       "    </tr>\n",
       "    <tr>\n",
       "      <th>0</th>\n",
       "      <td>Logreg</td>\n",
       "      <td>0.809289</td>\n",
       "      <td>0.602919</td>\n",
       "      <td>0.709979</td>\n",
       "      <td>0.652084</td>\n",
       "    </tr>\n",
       "    <tr>\n",
       "      <th>1</th>\n",
       "      <td>Naive Bayes</td>\n",
       "      <td>0.774228</td>\n",
       "      <td>0.648490</td>\n",
       "      <td>0.612576</td>\n",
       "      <td>0.630021</td>\n",
       "    </tr>\n",
       "    <tr>\n",
       "      <th>6</th>\n",
       "      <td>GaussianNB</td>\n",
       "      <td>0.774228</td>\n",
       "      <td>0.648490</td>\n",
       "      <td>0.612576</td>\n",
       "      <td>0.630021</td>\n",
       "    </tr>\n",
       "  </tbody>\n",
       "</table>\n",
       "</div>"
      ],
      "text/plain": [
       "      model name  accuracy    recall  precision        f1\n",
       "3   RandomForest  0.944449  0.929595   0.888209  0.908431\n",
       "2  Decision Tree  0.927601  0.918587   0.849432  0.882657\n",
       "5        Xgboost  0.910754  0.868408   0.836704  0.852261\n",
       "7            KNN  0.860135  0.763953   0.764149  0.764051\n",
       "4  GradientBoost  0.844502  0.716590   0.748196  0.732052\n",
       "0         Logreg  0.809289  0.602919   0.709979  0.652084\n",
       "1    Naive Bayes  0.774228  0.648490   0.612576  0.630021\n",
       "6     GaussianNB  0.774228  0.648490   0.612576  0.630021"
      ]
     },
     "execution_count": 21,
     "metadata": {},
     "output_type": "execute_result"
    }
   ],
   "source": [
    "clfs={\n",
    "    'Logreg':LogisticRegression(),\n",
    "    'Naive Bayes':GaussianNB(),\n",
    "    'Decision Tree':DecisionTreeClassifier(),\n",
    "    'RandomForest':RandomForestClassifier(),\n",
    "    'GradientBoost':GradientBoostingClassifier(),\n",
    "    'Xgboost':XGBClassifier(),\n",
    "    'GaussianNB':GaussianNB(),\n",
    "    'KNN':KNeighborsClassifier()\n",
    "}\n",
    "\n",
    "models_report=pd.DataFrame(columns=['model name','accuracy', 'recall', \n",
    "                                    'precision', 'f1'])\n",
    "for clf, clf_name in list(zip(clfs.values(), clfs.keys())):\n",
    "    clf.fit(xtrain, ytrain)\n",
    "    ypred=clf.predict(xtest)\n",
    "    print('Fitting the model ...', clf_name)\n",
    "    t=pd.DataFrame({\n",
    "        'model name':clf_name,\n",
    "        'accuracy':accuracy_score(ytest, ypred), \n",
    "        'recall':recall_score(ytest, ypred), \n",
    "        'precision':precision_score(ytest, ypred), \n",
    "        'f1':f1_score(ytest, ypred)\n",
    "    },index=[0])\n",
    "    models_report=pd.concat([models_report,t], ignore_index=True)\n",
    "\n",
    "models_report=models_report.sort_values(by='f1', ascending=False)\n",
    "models_report"
   ]
  },
  {
   "cell_type": "markdown",
   "id": "2555da33",
   "metadata": {},
   "source": [
    "Random Forest performs better"
   ]
  },
  {
   "cell_type": "code",
   "execution_count": 22,
   "id": "dbef376e",
   "metadata": {},
   "outputs": [],
   "source": [
    "def update_performance(name,test,pred):\n",
    "    \n",
    "    global models_report\n",
    "\n",
    "\n",
    "    \n",
    "    models_report = models_report.append({'model name'       : name,\n",
    "                                    'accuracy'    : accuracy_score(test,pred),\n",
    "                                    'recall'      : recall_score(test,pred),\n",
    "                                    'precision'   : precision_score(test,pred),\n",
    "                                    'f1'    : f1_score(test,pred)\n",
    "                                   },\n",
    "                                   ignore_index=True)\n",
    "    models_report=models_report.sort_values(by='f1', ascending=False)\n",
    "    return models_report"
   ]
  },
  {
   "cell_type": "code",
   "execution_count": 23,
   "id": "58cedb50",
   "metadata": {},
   "outputs": [
    {
     "name": "stdout",
     "output_type": "stream",
     "text": [
      "Train 1.0\n",
      "Test 0.9115509897268855\n"
     ]
    }
   ],
   "source": [
    "rf1=RandomForestClassifier(random_state=1)\n",
    "rf1.fit(xtrain,ytrain)\n",
    "ypred_rf1=rf1.predict(xtest)\n",
    "print('Train',f1_score(ytrain,rf1.predict(xtrain)))\n",
    "print('Test',f1_score(ytest,ypred_rf1))"
   ]
  },
  {
   "cell_type": "code",
   "execution_count": 24,
   "id": "6c6700eb",
   "metadata": {},
   "outputs": [
    {
     "data": {
      "text/html": [
       "<div>\n",
       "<style scoped>\n",
       "    .dataframe tbody tr th:only-of-type {\n",
       "        vertical-align: middle;\n",
       "    }\n",
       "\n",
       "    .dataframe tbody tr th {\n",
       "        vertical-align: top;\n",
       "    }\n",
       "\n",
       "    .dataframe thead th {\n",
       "        text-align: right;\n",
       "    }\n",
       "</style>\n",
       "<table border=\"1\" class=\"dataframe\">\n",
       "  <thead>\n",
       "    <tr style=\"text-align: right;\">\n",
       "      <th></th>\n",
       "      <th>model name</th>\n",
       "      <th>accuracy</th>\n",
       "      <th>recall</th>\n",
       "      <th>precision</th>\n",
       "      <th>f1</th>\n",
       "    </tr>\n",
       "  </thead>\n",
       "  <tbody>\n",
       "    <tr>\n",
       "      <th>8</th>\n",
       "      <td>Random Forest rs1</td>\n",
       "      <td>0.946422</td>\n",
       "      <td>0.931388</td>\n",
       "      <td>0.892542</td>\n",
       "      <td>0.911551</td>\n",
       "    </tr>\n",
       "    <tr>\n",
       "      <th>0</th>\n",
       "      <td>RandomForest</td>\n",
       "      <td>0.944449</td>\n",
       "      <td>0.929595</td>\n",
       "      <td>0.888209</td>\n",
       "      <td>0.908431</td>\n",
       "    </tr>\n",
       "    <tr>\n",
       "      <th>1</th>\n",
       "      <td>Decision Tree</td>\n",
       "      <td>0.927601</td>\n",
       "      <td>0.918587</td>\n",
       "      <td>0.849432</td>\n",
       "      <td>0.882657</td>\n",
       "    </tr>\n",
       "    <tr>\n",
       "      <th>2</th>\n",
       "      <td>Xgboost</td>\n",
       "      <td>0.910754</td>\n",
       "      <td>0.868408</td>\n",
       "      <td>0.836704</td>\n",
       "      <td>0.852261</td>\n",
       "    </tr>\n",
       "    <tr>\n",
       "      <th>3</th>\n",
       "      <td>KNN</td>\n",
       "      <td>0.860135</td>\n",
       "      <td>0.763953</td>\n",
       "      <td>0.764149</td>\n",
       "      <td>0.764051</td>\n",
       "    </tr>\n",
       "    <tr>\n",
       "      <th>4</th>\n",
       "      <td>GradientBoost</td>\n",
       "      <td>0.844502</td>\n",
       "      <td>0.716590</td>\n",
       "      <td>0.748196</td>\n",
       "      <td>0.732052</td>\n",
       "    </tr>\n",
       "    <tr>\n",
       "      <th>5</th>\n",
       "      <td>Logreg</td>\n",
       "      <td>0.809289</td>\n",
       "      <td>0.602919</td>\n",
       "      <td>0.709979</td>\n",
       "      <td>0.652084</td>\n",
       "    </tr>\n",
       "    <tr>\n",
       "      <th>6</th>\n",
       "      <td>Naive Bayes</td>\n",
       "      <td>0.774228</td>\n",
       "      <td>0.648490</td>\n",
       "      <td>0.612576</td>\n",
       "      <td>0.630021</td>\n",
       "    </tr>\n",
       "    <tr>\n",
       "      <th>7</th>\n",
       "      <td>GaussianNB</td>\n",
       "      <td>0.774228</td>\n",
       "      <td>0.648490</td>\n",
       "      <td>0.612576</td>\n",
       "      <td>0.630021</td>\n",
       "    </tr>\n",
       "  </tbody>\n",
       "</table>\n",
       "</div>"
      ],
      "text/plain": [
       "          model name  accuracy    recall  precision        f1\n",
       "8  Random Forest rs1  0.946422  0.931388   0.892542  0.911551\n",
       "0       RandomForest  0.944449  0.929595   0.888209  0.908431\n",
       "1      Decision Tree  0.927601  0.918587   0.849432  0.882657\n",
       "2            Xgboost  0.910754  0.868408   0.836704  0.852261\n",
       "3                KNN  0.860135  0.763953   0.764149  0.764051\n",
       "4      GradientBoost  0.844502  0.716590   0.748196  0.732052\n",
       "5             Logreg  0.809289  0.602919   0.709979  0.652084\n",
       "6        Naive Bayes  0.774228  0.648490   0.612576  0.630021\n",
       "7         GaussianNB  0.774228  0.648490   0.612576  0.630021"
      ]
     },
     "execution_count": 24,
     "metadata": {},
     "output_type": "execute_result"
    }
   ],
   "source": [
    "update_performance('Random Forest rs1',ytest,ypred_rf1)"
   ]
  },
  {
   "cell_type": "code",
   "execution_count": 32,
   "id": "de963579",
   "metadata": {},
   "outputs": [
    {
     "data": {
      "text/plain": [
       "('age',\n",
       " 'balance',\n",
       " 'duration',\n",
       " 'campaign',\n",
       " 'pdays',\n",
       " 'previous',\n",
       " 'marital',\n",
       " 'education',\n",
       " 'housing',\n",
       " 'day',\n",
       " 'month')"
      ]
     },
     "execution_count": 32,
     "metadata": {},
     "output_type": "execute_result"
    }
   ],
   "source": [
    "rf=RandomForestClassifier()\n",
    "sfs_for=SFS(estimator=rf,k_features='best',scoring='f1')\n",
    "sfs_for.fit(xtrain,ytrain)\n",
    "sfs_for.k_feature_names_"
   ]
  },
  {
   "cell_type": "code",
   "execution_count": 35,
   "id": "56e9f73a",
   "metadata": {},
   "outputs": [],
   "source": [
    "xtrain_1=xtrain[list(sfs_for.k_feature_names_)]\n",
    "xtest_1=xtest[list(sfs_for.k_feature_names_)]"
   ]
  },
  {
   "cell_type": "code",
   "execution_count": 36,
   "id": "3163833b",
   "metadata": {},
   "outputs": [
    {
     "name": "stdout",
     "output_type": "stream",
     "text": [
      "Train 1.0\n",
      "Test 0.9098411904464174\n"
     ]
    }
   ],
   "source": [
    "rf2=RandomForestClassifier(random_state=1)\n",
    "rf2.fit(xtrain_1,ytrain)\n",
    "ypred_rf2=rf2.predict(xtest_1)\n",
    "print('Train',f1_score(ytrain,rf2.predict(xtrain_1)))\n",
    "print('Test',f1_score(ytest,ypred_rf2))"
   ]
  },
  {
   "cell_type": "code",
   "execution_count": 37,
   "id": "32371816",
   "metadata": {},
   "outputs": [
    {
     "data": {
      "text/html": [
       "<div>\n",
       "<style scoped>\n",
       "    .dataframe tbody tr th:only-of-type {\n",
       "        vertical-align: middle;\n",
       "    }\n",
       "\n",
       "    .dataframe tbody tr th {\n",
       "        vertical-align: top;\n",
       "    }\n",
       "\n",
       "    .dataframe thead th {\n",
       "        text-align: right;\n",
       "    }\n",
       "</style>\n",
       "<table border=\"1\" class=\"dataframe\">\n",
       "  <thead>\n",
       "    <tr style=\"text-align: right;\">\n",
       "      <th></th>\n",
       "      <th>model name</th>\n",
       "      <th>accuracy</th>\n",
       "      <th>recall</th>\n",
       "      <th>precision</th>\n",
       "      <th>f1</th>\n",
       "    </tr>\n",
       "  </thead>\n",
       "  <tbody>\n",
       "    <tr>\n",
       "      <th>0</th>\n",
       "      <td>Random Forest rs1</td>\n",
       "      <td>0.946422</td>\n",
       "      <td>0.931388</td>\n",
       "      <td>0.892542</td>\n",
       "      <td>0.911551</td>\n",
       "    </tr>\n",
       "    <tr>\n",
       "      <th>9</th>\n",
       "      <td>Random Forest sfs forward</td>\n",
       "      <td>0.945283</td>\n",
       "      <td>0.931388</td>\n",
       "      <td>0.889269</td>\n",
       "      <td>0.909841</td>\n",
       "    </tr>\n",
       "    <tr>\n",
       "      <th>1</th>\n",
       "      <td>RandomForest</td>\n",
       "      <td>0.945132</td>\n",
       "      <td>0.931388</td>\n",
       "      <td>0.888835</td>\n",
       "      <td>0.909614</td>\n",
       "    </tr>\n",
       "    <tr>\n",
       "      <th>2</th>\n",
       "      <td>Decision Tree</td>\n",
       "      <td>0.927829</td>\n",
       "      <td>0.922171</td>\n",
       "      <td>0.847729</td>\n",
       "      <td>0.883384</td>\n",
       "    </tr>\n",
       "    <tr>\n",
       "      <th>3</th>\n",
       "      <td>Xgboost</td>\n",
       "      <td>0.910754</td>\n",
       "      <td>0.868408</td>\n",
       "      <td>0.836704</td>\n",
       "      <td>0.852261</td>\n",
       "    </tr>\n",
       "    <tr>\n",
       "      <th>4</th>\n",
       "      <td>KNN</td>\n",
       "      <td>0.860135</td>\n",
       "      <td>0.763953</td>\n",
       "      <td>0.764149</td>\n",
       "      <td>0.764051</td>\n",
       "    </tr>\n",
       "    <tr>\n",
       "      <th>5</th>\n",
       "      <td>GradientBoost</td>\n",
       "      <td>0.844502</td>\n",
       "      <td>0.716590</td>\n",
       "      <td>0.748196</td>\n",
       "      <td>0.732052</td>\n",
       "    </tr>\n",
       "    <tr>\n",
       "      <th>6</th>\n",
       "      <td>Logreg</td>\n",
       "      <td>0.809289</td>\n",
       "      <td>0.602919</td>\n",
       "      <td>0.709979</td>\n",
       "      <td>0.652084</td>\n",
       "    </tr>\n",
       "    <tr>\n",
       "      <th>7</th>\n",
       "      <td>Naive Bayes</td>\n",
       "      <td>0.774228</td>\n",
       "      <td>0.648490</td>\n",
       "      <td>0.612576</td>\n",
       "      <td>0.630021</td>\n",
       "    </tr>\n",
       "    <tr>\n",
       "      <th>8</th>\n",
       "      <td>GaussianNB</td>\n",
       "      <td>0.774228</td>\n",
       "      <td>0.648490</td>\n",
       "      <td>0.612576</td>\n",
       "      <td>0.630021</td>\n",
       "    </tr>\n",
       "  </tbody>\n",
       "</table>\n",
       "</div>"
      ],
      "text/plain": [
       "                  model name  accuracy    recall  precision        f1\n",
       "0          Random Forest rs1  0.946422  0.931388   0.892542  0.911551\n",
       "9  Random Forest sfs forward  0.945283  0.931388   0.889269  0.909841\n",
       "1               RandomForest  0.945132  0.931388   0.888835  0.909614\n",
       "2              Decision Tree  0.927829  0.922171   0.847729  0.883384\n",
       "3                    Xgboost  0.910754  0.868408   0.836704  0.852261\n",
       "4                        KNN  0.860135  0.763953   0.764149  0.764051\n",
       "5              GradientBoost  0.844502  0.716590   0.748196  0.732052\n",
       "6                     Logreg  0.809289  0.602919   0.709979  0.652084\n",
       "7                Naive Bayes  0.774228  0.648490   0.612576  0.630021\n",
       "8                 GaussianNB  0.774228  0.648490   0.612576  0.630021"
      ]
     },
     "execution_count": 37,
     "metadata": {},
     "output_type": "execute_result"
    }
   ],
   "source": [
    "update_performance('Random Forest sfs forward',ytest,ypred_rf2)"
   ]
  },
  {
   "cell_type": "code",
   "execution_count": 39,
   "id": "92f34395",
   "metadata": {},
   "outputs": [
    {
     "data": {
      "text/plain": [
       "('age', 'duration', 'campaign', 'pdays', 'marital', 'housing', 'day', 'month')"
      ]
     },
     "execution_count": 39,
     "metadata": {},
     "output_type": "execute_result"
    }
   ],
   "source": [
    "rf=RandomForestClassifier()\n",
    "sfs_ba=SFS(estimator=rf,k_features='best',scoring='f1',forward=False)\n",
    "sfs_ba.fit(xtrain,ytrain)\n",
    "sfs_ba.k_feature_names_"
   ]
  },
  {
   "cell_type": "code",
   "execution_count": 40,
   "id": "6087c7ca",
   "metadata": {},
   "outputs": [],
   "source": [
    "xtrain_2=xtrain[list(sfs_ba.k_feature_names_)]\n",
    "xtest_2=xtest[list(sfs_ba.k_feature_names_)]"
   ]
  },
  {
   "cell_type": "code",
   "execution_count": 41,
   "id": "c26482d9",
   "metadata": {},
   "outputs": [
    {
     "name": "stdout",
     "output_type": "stream",
     "text": [
      "Train 1.0\n",
      "Test 0.9092044461096541\n"
     ]
    }
   ],
   "source": [
    "rf3=RandomForestClassifier(random_state=1)\n",
    "rf3.fit(xtrain_2,ytrain)\n",
    "ypred_rf3=rf3.predict(xtest_2)\n",
    "print('Train',f1_score(ytrain,rf3.predict(xtrain_2)))\n",
    "print('Test',f1_score(ytest,ypred_rf3))"
   ]
  },
  {
   "cell_type": "code",
   "execution_count": 42,
   "id": "769a4ca4",
   "metadata": {},
   "outputs": [
    {
     "data": {
      "text/html": [
       "<div>\n",
       "<style scoped>\n",
       "    .dataframe tbody tr th:only-of-type {\n",
       "        vertical-align: middle;\n",
       "    }\n",
       "\n",
       "    .dataframe tbody tr th {\n",
       "        vertical-align: top;\n",
       "    }\n",
       "\n",
       "    .dataframe thead th {\n",
       "        text-align: right;\n",
       "    }\n",
       "</style>\n",
       "<table border=\"1\" class=\"dataframe\">\n",
       "  <thead>\n",
       "    <tr style=\"text-align: right;\">\n",
       "      <th></th>\n",
       "      <th>model name</th>\n",
       "      <th>accuracy</th>\n",
       "      <th>recall</th>\n",
       "      <th>precision</th>\n",
       "      <th>f1</th>\n",
       "    </tr>\n",
       "  </thead>\n",
       "  <tbody>\n",
       "    <tr>\n",
       "      <th>0</th>\n",
       "      <td>Random Forest rs1</td>\n",
       "      <td>0.946422</td>\n",
       "      <td>0.931388</td>\n",
       "      <td>0.892542</td>\n",
       "      <td>0.911551</td>\n",
       "    </tr>\n",
       "    <tr>\n",
       "      <th>1</th>\n",
       "      <td>Random Forest sfs forward</td>\n",
       "      <td>0.945283</td>\n",
       "      <td>0.931388</td>\n",
       "      <td>0.889269</td>\n",
       "      <td>0.909841</td>\n",
       "    </tr>\n",
       "    <tr>\n",
       "      <th>2</th>\n",
       "      <td>RandomForest</td>\n",
       "      <td>0.945132</td>\n",
       "      <td>0.931388</td>\n",
       "      <td>0.888835</td>\n",
       "      <td>0.909614</td>\n",
       "    </tr>\n",
       "    <tr>\n",
       "      <th>10</th>\n",
       "      <td>Random Forest sfs backward</td>\n",
       "      <td>0.944828</td>\n",
       "      <td>0.931900</td>\n",
       "      <td>0.887588</td>\n",
       "      <td>0.909204</td>\n",
       "    </tr>\n",
       "    <tr>\n",
       "      <th>3</th>\n",
       "      <td>Decision Tree</td>\n",
       "      <td>0.927829</td>\n",
       "      <td>0.922171</td>\n",
       "      <td>0.847729</td>\n",
       "      <td>0.883384</td>\n",
       "    </tr>\n",
       "    <tr>\n",
       "      <th>4</th>\n",
       "      <td>Xgboost</td>\n",
       "      <td>0.910754</td>\n",
       "      <td>0.868408</td>\n",
       "      <td>0.836704</td>\n",
       "      <td>0.852261</td>\n",
       "    </tr>\n",
       "    <tr>\n",
       "      <th>5</th>\n",
       "      <td>KNN</td>\n",
       "      <td>0.860135</td>\n",
       "      <td>0.763953</td>\n",
       "      <td>0.764149</td>\n",
       "      <td>0.764051</td>\n",
       "    </tr>\n",
       "    <tr>\n",
       "      <th>6</th>\n",
       "      <td>GradientBoost</td>\n",
       "      <td>0.844502</td>\n",
       "      <td>0.716590</td>\n",
       "      <td>0.748196</td>\n",
       "      <td>0.732052</td>\n",
       "    </tr>\n",
       "    <tr>\n",
       "      <th>7</th>\n",
       "      <td>Logreg</td>\n",
       "      <td>0.809289</td>\n",
       "      <td>0.602919</td>\n",
       "      <td>0.709979</td>\n",
       "      <td>0.652084</td>\n",
       "    </tr>\n",
       "    <tr>\n",
       "      <th>8</th>\n",
       "      <td>Naive Bayes</td>\n",
       "      <td>0.774228</td>\n",
       "      <td>0.648490</td>\n",
       "      <td>0.612576</td>\n",
       "      <td>0.630021</td>\n",
       "    </tr>\n",
       "    <tr>\n",
       "      <th>9</th>\n",
       "      <td>GaussianNB</td>\n",
       "      <td>0.774228</td>\n",
       "      <td>0.648490</td>\n",
       "      <td>0.612576</td>\n",
       "      <td>0.630021</td>\n",
       "    </tr>\n",
       "  </tbody>\n",
       "</table>\n",
       "</div>"
      ],
      "text/plain": [
       "                    model name  accuracy    recall  precision        f1\n",
       "0            Random Forest rs1  0.946422  0.931388   0.892542  0.911551\n",
       "1    Random Forest sfs forward  0.945283  0.931388   0.889269  0.909841\n",
       "2                 RandomForest  0.945132  0.931388   0.888835  0.909614\n",
       "10  Random Forest sfs backward  0.944828  0.931900   0.887588  0.909204\n",
       "3                Decision Tree  0.927829  0.922171   0.847729  0.883384\n",
       "4                      Xgboost  0.910754  0.868408   0.836704  0.852261\n",
       "5                          KNN  0.860135  0.763953   0.764149  0.764051\n",
       "6                GradientBoost  0.844502  0.716590   0.748196  0.732052\n",
       "7                       Logreg  0.809289  0.602919   0.709979  0.652084\n",
       "8                  Naive Bayes  0.774228  0.648490   0.612576  0.630021\n",
       "9                   GaussianNB  0.774228  0.648490   0.612576  0.630021"
      ]
     },
     "execution_count": 42,
     "metadata": {},
     "output_type": "execute_result"
    }
   ],
   "source": [
    "update_performance('Random Forest sfs backward',ytest,ypred_rf3)"
   ]
  },
  {
   "cell_type": "code",
   "execution_count": 44,
   "id": "5768622a",
   "metadata": {},
   "outputs": [
    {
     "data": {
      "text/html": [
       "<div>\n",
       "<style scoped>\n",
       "    .dataframe tbody tr th:only-of-type {\n",
       "        vertical-align: middle;\n",
       "    }\n",
       "\n",
       "    .dataframe tbody tr th {\n",
       "        vertical-align: top;\n",
       "    }\n",
       "\n",
       "    .dataframe thead th {\n",
       "        text-align: right;\n",
       "    }\n",
       "</style>\n",
       "<table border=\"1\" class=\"dataframe\">\n",
       "  <thead>\n",
       "    <tr style=\"text-align: right;\">\n",
       "      <th></th>\n",
       "      <th>Feature</th>\n",
       "      <th>Pvalue</th>\n",
       "    </tr>\n",
       "  </thead>\n",
       "  <tbody>\n",
       "    <tr>\n",
       "      <th>1</th>\n",
       "      <td>balance</td>\n",
       "      <td>1.075594e-84</td>\n",
       "    </tr>\n",
       "    <tr>\n",
       "      <th>2</th>\n",
       "      <td>duration</td>\n",
       "      <td>0.000000e+00</td>\n",
       "    </tr>\n",
       "    <tr>\n",
       "      <th>3</th>\n",
       "      <td>campaign</td>\n",
       "      <td>1.574868e-144</td>\n",
       "    </tr>\n",
       "    <tr>\n",
       "      <th>4</th>\n",
       "      <td>pdays</td>\n",
       "      <td>0.000000e+00</td>\n",
       "    </tr>\n",
       "    <tr>\n",
       "      <th>5</th>\n",
       "      <td>previous</td>\n",
       "      <td>0.000000e+00</td>\n",
       "    </tr>\n",
       "  </tbody>\n",
       "</table>\n",
       "</div>"
      ],
      "text/plain": [
       "    Feature         Pvalue\n",
       "1   balance   1.075594e-84\n",
       "2  duration   0.000000e+00\n",
       "3  campaign  1.574868e-144\n",
       "4     pdays   0.000000e+00\n",
       "5  previous   0.000000e+00"
      ]
     },
     "execution_count": 44,
     "metadata": {},
     "output_type": "execute_result"
    }
   ],
   "source": [
    "n=df3.iloc[:,0:6]\n",
    "pval=[]\n",
    "f=[]\n",
    "for i in n.columns:\n",
    "    s,p=stats.ttest_ind(df3[df3['y']==0][i],df3[df3['y']==1][i])\n",
    "    f.append(i)\n",
    "    pval.append(p)\n",
    "pvalue1=pd.DataFrame({'Feature':f,'Pvalue':pval})\n",
    "pvalue1[pvalue1['Pvalue']<0.05]"
   ]
  },
  {
   "cell_type": "code",
   "execution_count": 48,
   "id": "8e11d1d0",
   "metadata": {},
   "outputs": [
    {
     "data": {
      "text/html": [
       "<div>\n",
       "<style scoped>\n",
       "    .dataframe tbody tr th:only-of-type {\n",
       "        vertical-align: middle;\n",
       "    }\n",
       "\n",
       "    .dataframe tbody tr th {\n",
       "        vertical-align: top;\n",
       "    }\n",
       "\n",
       "    .dataframe thead th {\n",
       "        text-align: right;\n",
       "    }\n",
       "</style>\n",
       "<table border=\"1\" class=\"dataframe\">\n",
       "  <thead>\n",
       "    <tr style=\"text-align: right;\">\n",
       "      <th></th>\n",
       "      <th>Feature</th>\n",
       "      <th>Pvalue</th>\n",
       "    </tr>\n",
       "  </thead>\n",
       "  <tbody>\n",
       "    <tr>\n",
       "      <th>4</th>\n",
       "      <td>housing</td>\n",
       "      <td>0.000000e+00</td>\n",
       "    </tr>\n",
       "    <tr>\n",
       "      <th>7</th>\n",
       "      <td>month</td>\n",
       "      <td>0.000000e+00</td>\n",
       "    </tr>\n",
       "    <tr>\n",
       "      <th>0</th>\n",
       "      <td>job</td>\n",
       "      <td>2.011489e-299</td>\n",
       "    </tr>\n",
       "    <tr>\n",
       "      <th>6</th>\n",
       "      <td>day</td>\n",
       "      <td>3.576293e-217</td>\n",
       "    </tr>\n",
       "    <tr>\n",
       "      <th>5</th>\n",
       "      <td>loan</td>\n",
       "      <td>9.964790e-113</td>\n",
       "    </tr>\n",
       "    <tr>\n",
       "      <th>2</th>\n",
       "      <td>education</td>\n",
       "      <td>1.820396e-87</td>\n",
       "    </tr>\n",
       "    <tr>\n",
       "      <th>1</th>\n",
       "      <td>marital</td>\n",
       "      <td>1.161135e-84</td>\n",
       "    </tr>\n",
       "    <tr>\n",
       "      <th>3</th>\n",
       "      <td>default</td>\n",
       "      <td>1.890111e-09</td>\n",
       "    </tr>\n",
       "  </tbody>\n",
       "</table>\n",
       "</div>"
      ],
      "text/plain": [
       "     Feature         Pvalue\n",
       "4    housing   0.000000e+00\n",
       "7      month   0.000000e+00\n",
       "0        job  2.011489e-299\n",
       "6        day  3.576293e-217\n",
       "5       loan  9.964790e-113\n",
       "2  education   1.820396e-87\n",
       "1    marital   1.161135e-84\n",
       "3    default   1.890111e-09"
      ]
     },
     "execution_count": 48,
     "metadata": {},
     "output_type": "execute_result"
    }
   ],
   "source": [
    "c=df3.iloc[:,6:64].drop('y',axis=1)\n",
    "pval=[]\n",
    "f=[]\n",
    "for i in c.columns:\n",
    "    s,p,d,e=stats.chi2_contingency(pd.crosstab(df3[i],df3['y']))\n",
    "    f.append(i)\n",
    "    pval.append(p)\n",
    "pvalue2=pd.DataFrame({'Feature':f,'Pvalue':pval})\n",
    "pvalue2[pvalue2['Pvalue']<0.05].sort_values(by='Pvalue',ascending=True)"
   ]
  },
  {
   "cell_type": "code",
   "execution_count": 50,
   "id": "445f4b42",
   "metadata": {},
   "outputs": [],
   "source": [
    "xtrain_3=xtrain.drop('age',axis=1)\n",
    "xtest_3=xtest.drop('age',axis=1)"
   ]
  },
  {
   "cell_type": "code",
   "execution_count": 51,
   "id": "93d56f2b",
   "metadata": {},
   "outputs": [
    {
     "name": "stdout",
     "output_type": "stream",
     "text": [
      "Train 1.0\n",
      "Test 0.9074328544659588\n"
     ]
    }
   ],
   "source": [
    "rf4=RandomForestClassifier(random_state=1)\n",
    "rf4.fit(xtrain_3,ytrain)\n",
    "ypred_rf4=rf4.predict(xtest_3)\n",
    "print('Train',f1_score(ytrain,rf4.predict(xtrain_3)))\n",
    "print('Test',f1_score(ytest,ypred_rf4))"
   ]
  },
  {
   "cell_type": "code",
   "execution_count": 52,
   "id": "0446801c",
   "metadata": {},
   "outputs": [
    {
     "data": {
      "text/html": [
       "<div>\n",
       "<style scoped>\n",
       "    .dataframe tbody tr th:only-of-type {\n",
       "        vertical-align: middle;\n",
       "    }\n",
       "\n",
       "    .dataframe tbody tr th {\n",
       "        vertical-align: top;\n",
       "    }\n",
       "\n",
       "    .dataframe thead th {\n",
       "        text-align: right;\n",
       "    }\n",
       "</style>\n",
       "<table border=\"1\" class=\"dataframe\">\n",
       "  <thead>\n",
       "    <tr style=\"text-align: right;\">\n",
       "      <th></th>\n",
       "      <th>model name</th>\n",
       "      <th>accuracy</th>\n",
       "      <th>recall</th>\n",
       "      <th>precision</th>\n",
       "      <th>f1</th>\n",
       "    </tr>\n",
       "  </thead>\n",
       "  <tbody>\n",
       "    <tr>\n",
       "      <th>0</th>\n",
       "      <td>Random Forest rs1</td>\n",
       "      <td>0.946422</td>\n",
       "      <td>0.931388</td>\n",
       "      <td>0.892542</td>\n",
       "      <td>0.911551</td>\n",
       "    </tr>\n",
       "    <tr>\n",
       "      <th>1</th>\n",
       "      <td>Random Forest sfs forward</td>\n",
       "      <td>0.945283</td>\n",
       "      <td>0.931388</td>\n",
       "      <td>0.889269</td>\n",
       "      <td>0.909841</td>\n",
       "    </tr>\n",
       "    <tr>\n",
       "      <th>2</th>\n",
       "      <td>RandomForest</td>\n",
       "      <td>0.945132</td>\n",
       "      <td>0.931388</td>\n",
       "      <td>0.888835</td>\n",
       "      <td>0.909614</td>\n",
       "    </tr>\n",
       "    <tr>\n",
       "      <th>3</th>\n",
       "      <td>Random Forest sfs backward</td>\n",
       "      <td>0.944828</td>\n",
       "      <td>0.931900</td>\n",
       "      <td>0.887588</td>\n",
       "      <td>0.909204</td>\n",
       "    </tr>\n",
       "    <tr>\n",
       "      <th>11</th>\n",
       "      <td>Random Forest with age removed</td>\n",
       "      <td>0.943766</td>\n",
       "      <td>0.929852</td>\n",
       "      <td>0.886070</td>\n",
       "      <td>0.907433</td>\n",
       "    </tr>\n",
       "    <tr>\n",
       "      <th>4</th>\n",
       "      <td>Decision Tree</td>\n",
       "      <td>0.927829</td>\n",
       "      <td>0.922171</td>\n",
       "      <td>0.847729</td>\n",
       "      <td>0.883384</td>\n",
       "    </tr>\n",
       "    <tr>\n",
       "      <th>5</th>\n",
       "      <td>Xgboost</td>\n",
       "      <td>0.910754</td>\n",
       "      <td>0.868408</td>\n",
       "      <td>0.836704</td>\n",
       "      <td>0.852261</td>\n",
       "    </tr>\n",
       "    <tr>\n",
       "      <th>6</th>\n",
       "      <td>KNN</td>\n",
       "      <td>0.860135</td>\n",
       "      <td>0.763953</td>\n",
       "      <td>0.764149</td>\n",
       "      <td>0.764051</td>\n",
       "    </tr>\n",
       "    <tr>\n",
       "      <th>7</th>\n",
       "      <td>GradientBoost</td>\n",
       "      <td>0.844502</td>\n",
       "      <td>0.716590</td>\n",
       "      <td>0.748196</td>\n",
       "      <td>0.732052</td>\n",
       "    </tr>\n",
       "    <tr>\n",
       "      <th>8</th>\n",
       "      <td>Logreg</td>\n",
       "      <td>0.809289</td>\n",
       "      <td>0.602919</td>\n",
       "      <td>0.709979</td>\n",
       "      <td>0.652084</td>\n",
       "    </tr>\n",
       "    <tr>\n",
       "      <th>9</th>\n",
       "      <td>Naive Bayes</td>\n",
       "      <td>0.774228</td>\n",
       "      <td>0.648490</td>\n",
       "      <td>0.612576</td>\n",
       "      <td>0.630021</td>\n",
       "    </tr>\n",
       "    <tr>\n",
       "      <th>10</th>\n",
       "      <td>GaussianNB</td>\n",
       "      <td>0.774228</td>\n",
       "      <td>0.648490</td>\n",
       "      <td>0.612576</td>\n",
       "      <td>0.630021</td>\n",
       "    </tr>\n",
       "  </tbody>\n",
       "</table>\n",
       "</div>"
      ],
      "text/plain": [
       "                        model name  accuracy    recall  precision        f1\n",
       "0                Random Forest rs1  0.946422  0.931388   0.892542  0.911551\n",
       "1        Random Forest sfs forward  0.945283  0.931388   0.889269  0.909841\n",
       "2                     RandomForest  0.945132  0.931388   0.888835  0.909614\n",
       "3       Random Forest sfs backward  0.944828  0.931900   0.887588  0.909204\n",
       "11  Random Forest with age removed  0.943766  0.929852   0.886070  0.907433\n",
       "4                    Decision Tree  0.927829  0.922171   0.847729  0.883384\n",
       "5                          Xgboost  0.910754  0.868408   0.836704  0.852261\n",
       "6                              KNN  0.860135  0.763953   0.764149  0.764051\n",
       "7                    GradientBoost  0.844502  0.716590   0.748196  0.732052\n",
       "8                           Logreg  0.809289  0.602919   0.709979  0.652084\n",
       "9                      Naive Bayes  0.774228  0.648490   0.612576  0.630021\n",
       "10                      GaussianNB  0.774228  0.648490   0.612576  0.630021"
      ]
     },
     "execution_count": 52,
     "metadata": {},
     "output_type": "execute_result"
    }
   ],
   "source": [
    "update_performance('Random Forest with age removed',ytest,ypred_rf4)"
   ]
  },
  {
   "cell_type": "code",
   "execution_count": 53,
   "id": "ebe9d205",
   "metadata": {},
   "outputs": [],
   "source": [
    "from sklearn.feature_selection import mutual_info_classif"
   ]
  },
  {
   "cell_type": "code",
   "execution_count": 54,
   "id": "d766ed56",
   "metadata": {},
   "outputs": [
    {
     "data": {
      "text/plain": [
       "<AxesSubplot:>"
      ]
     },
     "execution_count": 54,
     "metadata": {},
     "output_type": "execute_result"
    },
    {
     "data": {
      "image/png": "[encoded data removed]",
      "text/plain": [
       "<Figure size 640x480 with 1 Axes>"
      ]
     },
     "metadata": {},
     "output_type": "display_data"
    }
   ],
   "source": [
    "imp=mutual_info_classif(xtrain,ytrain)\n",
    "feat_imp=pd.Series(imp,df3.columns[0:len(df3.columns)-1])\n",
    "feat_imp.plot(kind='barh')"
   ]
  },
  {
   "cell_type": "code",
   "execution_count": 55,
   "id": "8b843c04",
   "metadata": {},
   "outputs": [
    {
     "data": {
      "text/plain": [
       "['age',\n",
       " 'balance',\n",
       " 'duration',\n",
       " 'campaign',\n",
       " 'pdays',\n",
       " 'previous',\n",
       " 'job',\n",
       " 'marital',\n",
       " 'education',\n",
       " 'housing',\n",
       " 'loan',\n",
       " 'day',\n",
       " 'month']"
      ]
     },
     "execution_count": 55,
     "metadata": {},
     "output_type": "execute_result"
    }
   ],
   "source": [
    "list(feat_imp[feat_imp>0].index)"
   ]
  },
  {
   "cell_type": "code",
   "execution_count": 56,
   "id": "74b661c2",
   "metadata": {},
   "outputs": [
    {
     "name": "stdout",
     "output_type": "stream",
     "text": [
      "Train 1.0\n",
      "Test 0.9099975068561456\n"
     ]
    }
   ],
   "source": [
    "xtrain_4=xtrain[list(feat_imp[feat_imp>0].index)]\n",
    "xtest_4=xtest[list(feat_imp[feat_imp>0].index)]\n",
    "rf5=RandomForestClassifier(random_state=1)\n",
    "rf5.fit(xtrain_4,ytrain)\n",
    "ypred_rf5=rf5.predict(xtest_4)\n",
    "print('Train',f1_score(ytrain,rf5.predict(xtrain_4)))\n",
    "print('Test',f1_score(ytest,ypred_rf5))"
   ]
  },
  {
   "cell_type": "code",
   "execution_count": 57,
   "id": "f20cf2ec",
   "metadata": {},
   "outputs": [
    {
     "data": {
      "text/html": [
       "<div>\n",
       "<style scoped>\n",
       "    .dataframe tbody tr th:only-of-type {\n",
       "        vertical-align: middle;\n",
       "    }\n",
       "\n",
       "    .dataframe tbody tr th {\n",
       "        vertical-align: top;\n",
       "    }\n",
       "\n",
       "    .dataframe thead th {\n",
       "        text-align: right;\n",
       "    }\n",
       "</style>\n",
       "<table border=\"1\" class=\"dataframe\">\n",
       "  <thead>\n",
       "    <tr style=\"text-align: right;\">\n",
       "      <th></th>\n",
       "      <th>model name</th>\n",
       "      <th>accuracy</th>\n",
       "      <th>recall</th>\n",
       "      <th>precision</th>\n",
       "      <th>f1</th>\n",
       "    </tr>\n",
       "  </thead>\n",
       "  <tbody>\n",
       "    <tr>\n",
       "      <th>0</th>\n",
       "      <td>Random Forest rs1</td>\n",
       "      <td>0.946422</td>\n",
       "      <td>0.931388</td>\n",
       "      <td>0.892542</td>\n",
       "      <td>0.911551</td>\n",
       "    </tr>\n",
       "    <tr>\n",
       "      <th>12</th>\n",
       "      <td>Random Forest info gain feat selection</td>\n",
       "      <td>0.945208</td>\n",
       "      <td>0.934460</td>\n",
       "      <td>0.886783</td>\n",
       "      <td>0.909998</td>\n",
       "    </tr>\n",
       "    <tr>\n",
       "      <th>1</th>\n",
       "      <td>Random Forest sfs forward</td>\n",
       "      <td>0.945283</td>\n",
       "      <td>0.931388</td>\n",
       "      <td>0.889269</td>\n",
       "      <td>0.909841</td>\n",
       "    </tr>\n",
       "    <tr>\n",
       "      <th>2</th>\n",
       "      <td>RandomForest</td>\n",
       "      <td>0.945132</td>\n",
       "      <td>0.931388</td>\n",
       "      <td>0.888835</td>\n",
       "      <td>0.909614</td>\n",
       "    </tr>\n",
       "    <tr>\n",
       "      <th>3</th>\n",
       "      <td>Random Forest sfs backward</td>\n",
       "      <td>0.944828</td>\n",
       "      <td>0.931900</td>\n",
       "      <td>0.887588</td>\n",
       "      <td>0.909204</td>\n",
       "    </tr>\n",
       "    <tr>\n",
       "      <th>4</th>\n",
       "      <td>Random Forest with age removed</td>\n",
       "      <td>0.943766</td>\n",
       "      <td>0.929852</td>\n",
       "      <td>0.886070</td>\n",
       "      <td>0.907433</td>\n",
       "    </tr>\n",
       "    <tr>\n",
       "      <th>5</th>\n",
       "      <td>Decision Tree</td>\n",
       "      <td>0.927829</td>\n",
       "      <td>0.922171</td>\n",
       "      <td>0.847729</td>\n",
       "      <td>0.883384</td>\n",
       "    </tr>\n",
       "    <tr>\n",
       "      <th>6</th>\n",
       "      <td>Xgboost</td>\n",
       "      <td>0.910754</td>\n",
       "      <td>0.868408</td>\n",
       "      <td>0.836704</td>\n",
       "      <td>0.852261</td>\n",
       "    </tr>\n",
       "    <tr>\n",
       "      <th>7</th>\n",
       "      <td>KNN</td>\n",
       "      <td>0.860135</td>\n",
       "      <td>0.763953</td>\n",
       "      <td>0.764149</td>\n",
       "      <td>0.764051</td>\n",
       "    </tr>\n",
       "    <tr>\n",
       "      <th>8</th>\n",
       "      <td>GradientBoost</td>\n",
       "      <td>0.844502</td>\n",
       "      <td>0.716590</td>\n",
       "      <td>0.748196</td>\n",
       "      <td>0.732052</td>\n",
       "    </tr>\n",
       "    <tr>\n",
       "      <th>9</th>\n",
       "      <td>Logreg</td>\n",
       "      <td>0.809289</td>\n",
       "      <td>0.602919</td>\n",
       "      <td>0.709979</td>\n",
       "      <td>0.652084</td>\n",
       "    </tr>\n",
       "    <tr>\n",
       "      <th>10</th>\n",
       "      <td>Naive Bayes</td>\n",
       "      <td>0.774228</td>\n",
       "      <td>0.648490</td>\n",
       "      <td>0.612576</td>\n",
       "      <td>0.630021</td>\n",
       "    </tr>\n",
       "    <tr>\n",
       "      <th>11</th>\n",
       "      <td>GaussianNB</td>\n",
       "      <td>0.774228</td>\n",
       "      <td>0.648490</td>\n",
       "      <td>0.612576</td>\n",
       "      <td>0.630021</td>\n",
       "    </tr>\n",
       "  </tbody>\n",
       "</table>\n",
       "</div>"
      ],
      "text/plain": [
       "                                model name  accuracy    recall  precision  \\\n",
       "0                        Random Forest rs1  0.946422  0.931388   0.892542   \n",
       "12  Random Forest info gain feat selection  0.945208  0.934460   0.886783   \n",
       "1                Random Forest sfs forward  0.945283  0.931388   0.889269   \n",
       "2                             RandomForest  0.945132  0.931388   0.888835   \n",
       "3               Random Forest sfs backward  0.944828  0.931900   0.887588   \n",
       "4           Random Forest with age removed  0.943766  0.929852   0.886070   \n",
       "5                            Decision Tree  0.927829  0.922171   0.847729   \n",
       "6                                  Xgboost  0.910754  0.868408   0.836704   \n",
       "7                                      KNN  0.860135  0.763953   0.764149   \n",
       "8                            GradientBoost  0.844502  0.716590   0.748196   \n",
       "9                                   Logreg  0.809289  0.602919   0.709979   \n",
       "10                             Naive Bayes  0.774228  0.648490   0.612576   \n",
       "11                              GaussianNB  0.774228  0.648490   0.612576   \n",
       "\n",
       "          f1  \n",
       "0   0.911551  \n",
       "12  0.909998  \n",
       "1   0.909841  \n",
       "2   0.909614  \n",
       "3   0.909204  \n",
       "4   0.907433  \n",
       "5   0.883384  \n",
       "6   0.852261  \n",
       "7   0.764051  \n",
       "8   0.732052  \n",
       "9   0.652084  \n",
       "10  0.630021  \n",
       "11  0.630021  "
      ]
     },
     "execution_count": 57,
     "metadata": {},
     "output_type": "execute_result"
    }
   ],
   "source": [
    "update_performance('Random Forest info gain feat selection',ytest,ypred_rf5)"
   ]
  },
  {
   "cell_type": "code",
   "execution_count": 58,
   "id": "019a7f42",
   "metadata": {},
   "outputs": [
    {
     "data": {
      "text/plain": [
       "<AxesSubplot:>"
      ]
     },
     "execution_count": 58,
     "metadata": {},
     "output_type": "execute_result"
    },
    {
     "data": {
      "image/png": "[encoded data removed]",
      "text/plain": [
       "<Figure size 1500x800 with 1 Axes>"
      ]
     },
     "metadata": {},
     "output_type": "display_data"
    }
   ],
   "source": [
    "rf_imp=rf1.feature_importances_\n",
    "rf_feat_imp=pd.Series(rf_imp,df3.columns[0:len(df3.columns)-1])\n",
    "plt.figure(figsize=(15,8))\n",
    "rf_feat_imp.plot(kind='barh')"
   ]
  },
  {
   "cell_type": "code",
   "execution_count": 59,
   "id": "b059889f",
   "metadata": {},
   "outputs": [
    {
     "data": {
      "text/plain": [
       "15"
      ]
     },
     "execution_count": 59,
     "metadata": {},
     "output_type": "execute_result"
    }
   ],
   "source": [
    "len(df3.columns)"
   ]
  },
  {
   "cell_type": "code",
   "execution_count": 66,
   "id": "3e401ee6",
   "metadata": {},
   "outputs": [
    {
     "data": {
      "text/plain": [
       "duration     0.346685\n",
       "age          0.105239\n",
       "balance      0.101636\n",
       "month        0.091277\n",
       "day          0.084622\n",
       "pdays        0.066328\n",
       "job          0.045123\n",
       "housing      0.036061\n",
       "campaign     0.035196\n",
       "previous     0.033483\n",
       "education    0.020862\n",
       "marital      0.020258\n",
       "loan         0.011503\n",
       "default      0.001729\n",
       "dtype: float64"
      ]
     },
     "execution_count": 66,
     "metadata": {},
     "output_type": "execute_result"
    }
   ],
   "source": [
    "rf_feat_imp.sort_values(ascending=False)"
   ]
  },
  {
   "cell_type": "code",
   "execution_count": 63,
   "id": "61c317ea",
   "metadata": {},
   "outputs": [],
   "source": [
    "xtrain_5=xtrain[list(rf_feat_imp.sort_values(ascending=False)[rf_feat_imp>0.03].index)]\n",
    "xtest_5=xtest[list(rf_feat_imp.sort_values(ascending=False)[rf_feat_imp>0.03].index)]"
   ]
  },
  {
   "cell_type": "code",
   "execution_count": 64,
   "id": "5247a204",
   "metadata": {},
   "outputs": [
    {
     "name": "stdout",
     "output_type": "stream",
     "text": [
      "Train 1.0\n",
      "Test 0.908227056764191\n"
     ]
    }
   ],
   "source": [
    "rf6=RandomForestClassifier(random_state=1)\n",
    "rf6.fit(xtrain_5,ytrain)\n",
    "ypred_rf6=rf6.predict(xtest_5)\n",
    "print('Train',f1_score(ytrain,rf6.predict(xtrain_5)))\n",
    "print('Test',f1_score(ytest,ypred_rf6))"
   ]
  },
  {
   "cell_type": "code",
   "execution_count": 65,
   "id": "8393d8ae",
   "metadata": {},
   "outputs": [
    {
     "data": {
      "text/html": [
       "<div>\n",
       "<style scoped>\n",
       "    .dataframe tbody tr th:only-of-type {\n",
       "        vertical-align: middle;\n",
       "    }\n",
       "\n",
       "    .dataframe tbody tr th {\n",
       "        vertical-align: top;\n",
       "    }\n",
       "\n",
       "    .dataframe thead th {\n",
       "        text-align: right;\n",
       "    }\n",
       "</style>\n",
       "<table border=\"1\" class=\"dataframe\">\n",
       "  <thead>\n",
       "    <tr style=\"text-align: right;\">\n",
       "      <th></th>\n",
       "      <th>model name</th>\n",
       "      <th>accuracy</th>\n",
       "      <th>recall</th>\n",
       "      <th>precision</th>\n",
       "      <th>f1</th>\n",
       "    </tr>\n",
       "  </thead>\n",
       "  <tbody>\n",
       "    <tr>\n",
       "      <th>0</th>\n",
       "      <td>Random Forest rs1</td>\n",
       "      <td>0.946422</td>\n",
       "      <td>0.931388</td>\n",
       "      <td>0.892542</td>\n",
       "      <td>0.911551</td>\n",
       "    </tr>\n",
       "    <tr>\n",
       "      <th>1</th>\n",
       "      <td>Random Forest info gain feat selection</td>\n",
       "      <td>0.945208</td>\n",
       "      <td>0.934460</td>\n",
       "      <td>0.886783</td>\n",
       "      <td>0.909998</td>\n",
       "    </tr>\n",
       "    <tr>\n",
       "      <th>2</th>\n",
       "      <td>Random Forest sfs forward</td>\n",
       "      <td>0.945283</td>\n",
       "      <td>0.931388</td>\n",
       "      <td>0.889269</td>\n",
       "      <td>0.909841</td>\n",
       "    </tr>\n",
       "    <tr>\n",
       "      <th>3</th>\n",
       "      <td>RandomForest</td>\n",
       "      <td>0.945132</td>\n",
       "      <td>0.931388</td>\n",
       "      <td>0.888835</td>\n",
       "      <td>0.909614</td>\n",
       "    </tr>\n",
       "    <tr>\n",
       "      <th>4</th>\n",
       "      <td>Random Forest sfs backward</td>\n",
       "      <td>0.944828</td>\n",
       "      <td>0.931900</td>\n",
       "      <td>0.887588</td>\n",
       "      <td>0.909204</td>\n",
       "    </tr>\n",
       "    <tr>\n",
       "      <th>13</th>\n",
       "      <td>Random Forest rf importances 1</td>\n",
       "      <td>0.944297</td>\n",
       "      <td>0.929852</td>\n",
       "      <td>0.887586</td>\n",
       "      <td>0.908227</td>\n",
       "    </tr>\n",
       "    <tr>\n",
       "      <th>5</th>\n",
       "      <td>Random Forest with age removed</td>\n",
       "      <td>0.943766</td>\n",
       "      <td>0.929852</td>\n",
       "      <td>0.886070</td>\n",
       "      <td>0.907433</td>\n",
       "    </tr>\n",
       "    <tr>\n",
       "      <th>6</th>\n",
       "      <td>Decision Tree</td>\n",
       "      <td>0.927829</td>\n",
       "      <td>0.922171</td>\n",
       "      <td>0.847729</td>\n",
       "      <td>0.883384</td>\n",
       "    </tr>\n",
       "    <tr>\n",
       "      <th>7</th>\n",
       "      <td>Xgboost</td>\n",
       "      <td>0.910754</td>\n",
       "      <td>0.868408</td>\n",
       "      <td>0.836704</td>\n",
       "      <td>0.852261</td>\n",
       "    </tr>\n",
       "    <tr>\n",
       "      <th>8</th>\n",
       "      <td>KNN</td>\n",
       "      <td>0.860135</td>\n",
       "      <td>0.763953</td>\n",
       "      <td>0.764149</td>\n",
       "      <td>0.764051</td>\n",
       "    </tr>\n",
       "    <tr>\n",
       "      <th>9</th>\n",
       "      <td>GradientBoost</td>\n",
       "      <td>0.844502</td>\n",
       "      <td>0.716590</td>\n",
       "      <td>0.748196</td>\n",
       "      <td>0.732052</td>\n",
       "    </tr>\n",
       "    <tr>\n",
       "      <th>10</th>\n",
       "      <td>Logreg</td>\n",
       "      <td>0.809289</td>\n",
       "      <td>0.602919</td>\n",
       "      <td>0.709979</td>\n",
       "      <td>0.652084</td>\n",
       "    </tr>\n",
       "    <tr>\n",
       "      <th>11</th>\n",
       "      <td>Naive Bayes</td>\n",
       "      <td>0.774228</td>\n",
       "      <td>0.648490</td>\n",
       "      <td>0.612576</td>\n",
       "      <td>0.630021</td>\n",
       "    </tr>\n",
       "    <tr>\n",
       "      <th>12</th>\n",
       "      <td>GaussianNB</td>\n",
       "      <td>0.774228</td>\n",
       "      <td>0.648490</td>\n",
       "      <td>0.612576</td>\n",
       "      <td>0.630021</td>\n",
       "    </tr>\n",
       "  </tbody>\n",
       "</table>\n",
       "</div>"
      ],
      "text/plain": [
       "                                model name  accuracy    recall  precision  \\\n",
       "0                        Random Forest rs1  0.946422  0.931388   0.892542   \n",
       "1   Random Forest info gain feat selection  0.945208  0.934460   0.886783   \n",
       "2                Random Forest sfs forward  0.945283  0.931388   0.889269   \n",
       "3                             RandomForest  0.945132  0.931388   0.888835   \n",
       "4               Random Forest sfs backward  0.944828  0.931900   0.887588   \n",
       "13          Random Forest rf importances 1  0.944297  0.929852   0.887586   \n",
       "5           Random Forest with age removed  0.943766  0.929852   0.886070   \n",
       "6                            Decision Tree  0.927829  0.922171   0.847729   \n",
       "7                                  Xgboost  0.910754  0.868408   0.836704   \n",
       "8                                      KNN  0.860135  0.763953   0.764149   \n",
       "9                            GradientBoost  0.844502  0.716590   0.748196   \n",
       "10                                  Logreg  0.809289  0.602919   0.709979   \n",
       "11                             Naive Bayes  0.774228  0.648490   0.612576   \n",
       "12                              GaussianNB  0.774228  0.648490   0.612576   \n",
       "\n",
       "          f1  \n",
       "0   0.911551  \n",
       "1   0.909998  \n",
       "2   0.909841  \n",
       "3   0.909614  \n",
       "4   0.909204  \n",
       "13  0.908227  \n",
       "5   0.907433  \n",
       "6   0.883384  \n",
       "7   0.852261  \n",
       "8   0.764051  \n",
       "9   0.732052  \n",
       "10  0.652084  \n",
       "11  0.630021  \n",
       "12  0.630021  "
      ]
     },
     "execution_count": 65,
     "metadata": {},
     "output_type": "execute_result"
    }
   ],
   "source": [
    "update_performance('Random Forest rf importances 1',ytest,ypred_rf6)"
   ]
  },
  {
   "cell_type": "code",
   "execution_count": 79,
   "id": "06ff41c9",
   "metadata": {},
   "outputs": [
    {
     "name": "stdout",
     "output_type": "stream",
     "text": [
      "Train 1.0\n",
      "Test 0.9124078147237676\n"
     ]
    }
   ],
   "source": [
    "ypred_prob_rf1=[0 if x<0.6 else 1 for x in rf1.predict_proba(xtest)[:,1]]\n",
    "print('Train',f1_score(ytrain,rf1.predict(xtrain)))\n",
    "print('Test',f1_score(ytest,ypred_prob_rf1))"
   ]
  },
  {
   "cell_type": "code",
   "execution_count": 80,
   "id": "5679edf6",
   "metadata": {},
   "outputs": [
    {
     "data": {
      "text/html": [
       "<div>\n",
       "<style scoped>\n",
       "    .dataframe tbody tr th:only-of-type {\n",
       "        vertical-align: middle;\n",
       "    }\n",
       "\n",
       "    .dataframe tbody tr th {\n",
       "        vertical-align: top;\n",
       "    }\n",
       "\n",
       "    .dataframe thead th {\n",
       "        text-align: right;\n",
       "    }\n",
       "</style>\n",
       "<table border=\"1\" class=\"dataframe\">\n",
       "  <thead>\n",
       "    <tr style=\"text-align: right;\">\n",
       "      <th></th>\n",
       "      <th>model name</th>\n",
       "      <th>accuracy</th>\n",
       "      <th>recall</th>\n",
       "      <th>precision</th>\n",
       "      <th>f1</th>\n",
       "    </tr>\n",
       "  </thead>\n",
       "  <tbody>\n",
       "    <tr>\n",
       "      <th>14</th>\n",
       "      <td>Random Forest rs 1 threshold 0.6</td>\n",
       "      <td>0.948623</td>\n",
       "      <td>0.902714</td>\n",
       "      <td>0.922312</td>\n",
       "      <td>0.912408</td>\n",
       "    </tr>\n",
       "    <tr>\n",
       "      <th>0</th>\n",
       "      <td>Random Forest rs1</td>\n",
       "      <td>0.946422</td>\n",
       "      <td>0.931388</td>\n",
       "      <td>0.892542</td>\n",
       "      <td>0.911551</td>\n",
       "    </tr>\n",
       "    <tr>\n",
       "      <th>1</th>\n",
       "      <td>Random Forest info gain feat selection</td>\n",
       "      <td>0.945208</td>\n",
       "      <td>0.934460</td>\n",
       "      <td>0.886783</td>\n",
       "      <td>0.909998</td>\n",
       "    </tr>\n",
       "    <tr>\n",
       "      <th>2</th>\n",
       "      <td>Random Forest sfs forward</td>\n",
       "      <td>0.945283</td>\n",
       "      <td>0.931388</td>\n",
       "      <td>0.889269</td>\n",
       "      <td>0.909841</td>\n",
       "    </tr>\n",
       "    <tr>\n",
       "      <th>3</th>\n",
       "      <td>RandomForest</td>\n",
       "      <td>0.945132</td>\n",
       "      <td>0.931388</td>\n",
       "      <td>0.888835</td>\n",
       "      <td>0.909614</td>\n",
       "    </tr>\n",
       "    <tr>\n",
       "      <th>4</th>\n",
       "      <td>Random Forest sfs backward</td>\n",
       "      <td>0.944828</td>\n",
       "      <td>0.931900</td>\n",
       "      <td>0.887588</td>\n",
       "      <td>0.909204</td>\n",
       "    </tr>\n",
       "    <tr>\n",
       "      <th>5</th>\n",
       "      <td>Random Forest rf importances 1</td>\n",
       "      <td>0.944297</td>\n",
       "      <td>0.929852</td>\n",
       "      <td>0.887586</td>\n",
       "      <td>0.908227</td>\n",
       "    </tr>\n",
       "    <tr>\n",
       "      <th>6</th>\n",
       "      <td>Random Forest with age removed</td>\n",
       "      <td>0.943766</td>\n",
       "      <td>0.929852</td>\n",
       "      <td>0.886070</td>\n",
       "      <td>0.907433</td>\n",
       "    </tr>\n",
       "    <tr>\n",
       "      <th>7</th>\n",
       "      <td>Decision Tree</td>\n",
       "      <td>0.927829</td>\n",
       "      <td>0.922171</td>\n",
       "      <td>0.847729</td>\n",
       "      <td>0.883384</td>\n",
       "    </tr>\n",
       "    <tr>\n",
       "      <th>8</th>\n",
       "      <td>Xgboost</td>\n",
       "      <td>0.910754</td>\n",
       "      <td>0.868408</td>\n",
       "      <td>0.836704</td>\n",
       "      <td>0.852261</td>\n",
       "    </tr>\n",
       "    <tr>\n",
       "      <th>9</th>\n",
       "      <td>KNN</td>\n",
       "      <td>0.860135</td>\n",
       "      <td>0.763953</td>\n",
       "      <td>0.764149</td>\n",
       "      <td>0.764051</td>\n",
       "    </tr>\n",
       "    <tr>\n",
       "      <th>10</th>\n",
       "      <td>GradientBoost</td>\n",
       "      <td>0.844502</td>\n",
       "      <td>0.716590</td>\n",
       "      <td>0.748196</td>\n",
       "      <td>0.732052</td>\n",
       "    </tr>\n",
       "    <tr>\n",
       "      <th>11</th>\n",
       "      <td>Logreg</td>\n",
       "      <td>0.809289</td>\n",
       "      <td>0.602919</td>\n",
       "      <td>0.709979</td>\n",
       "      <td>0.652084</td>\n",
       "    </tr>\n",
       "    <tr>\n",
       "      <th>12</th>\n",
       "      <td>Naive Bayes</td>\n",
       "      <td>0.774228</td>\n",
       "      <td>0.648490</td>\n",
       "      <td>0.612576</td>\n",
       "      <td>0.630021</td>\n",
       "    </tr>\n",
       "    <tr>\n",
       "      <th>13</th>\n",
       "      <td>GaussianNB</td>\n",
       "      <td>0.774228</td>\n",
       "      <td>0.648490</td>\n",
       "      <td>0.612576</td>\n",
       "      <td>0.630021</td>\n",
       "    </tr>\n",
       "  </tbody>\n",
       "</table>\n",
       "</div>"
      ],
      "text/plain": [
       "                                model name  accuracy    recall  precision  \\\n",
       "14        Random Forest rs 1 threshold 0.6  0.948623  0.902714   0.922312   \n",
       "0                        Random Forest rs1  0.946422  0.931388   0.892542   \n",
       "1   Random Forest info gain feat selection  0.945208  0.934460   0.886783   \n",
       "2                Random Forest sfs forward  0.945283  0.931388   0.889269   \n",
       "3                             RandomForest  0.945132  0.931388   0.888835   \n",
       "4               Random Forest sfs backward  0.944828  0.931900   0.887588   \n",
       "5           Random Forest rf importances 1  0.944297  0.929852   0.887586   \n",
       "6           Random Forest with age removed  0.943766  0.929852   0.886070   \n",
       "7                            Decision Tree  0.927829  0.922171   0.847729   \n",
       "8                                  Xgboost  0.910754  0.868408   0.836704   \n",
       "9                                      KNN  0.860135  0.763953   0.764149   \n",
       "10                           GradientBoost  0.844502  0.716590   0.748196   \n",
       "11                                  Logreg  0.809289  0.602919   0.709979   \n",
       "12                             Naive Bayes  0.774228  0.648490   0.612576   \n",
       "13                              GaussianNB  0.774228  0.648490   0.612576   \n",
       "\n",
       "          f1  \n",
       "14  0.912408  \n",
       "0   0.911551  \n",
       "1   0.909998  \n",
       "2   0.909841  \n",
       "3   0.909614  \n",
       "4   0.909204  \n",
       "5   0.908227  \n",
       "6   0.907433  \n",
       "7   0.883384  \n",
       "8   0.852261  \n",
       "9   0.764051  \n",
       "10  0.732052  \n",
       "11  0.652084  \n",
       "12  0.630021  \n",
       "13  0.630021  "
      ]
     },
     "execution_count": 80,
     "metadata": {},
     "output_type": "execute_result"
    }
   ],
   "source": [
    "update_performance('Random Forest rs 1 threshold 0.6',ytest,ypred_prob_rf1)"
   ]
  },
  {
   "cell_type": "code",
   "execution_count": 169,
   "id": "9ac76982",
   "metadata": {},
   "outputs": [
    {
     "name": "stdout",
     "output_type": "stream",
     "text": [
      "Train 0.8624229979466118\n",
      "Test 0.8051684823916899\n"
     ]
    }
   ],
   "source": [
    "rf7=RandomForestClassifier(random_state=1,n_estimators=50,min_samples_split=3,min_samples_leaf=9)\n",
    "rf7.fit(xtrain,ytrain)\n",
    "ypred_rf7=rf7.predict(xtest)\n",
    "print('Train',f1_score(ytrain,rf7.predict(xtrain)))\n",
    "print('Test',f1_score(ytest,ypred_rf7))"
   ]
  },
  {
   "cell_type": "code",
   "execution_count": 170,
   "id": "1a98f14d",
   "metadata": {},
   "outputs": [
    {
     "name": "stdout",
     "output_type": "stream",
     "text": [
      "Train 0.9991364421416236\n",
      "Test 0.9107321965897693\n"
     ]
    }
   ],
   "source": [
    "rf8=RandomForestClassifier(random_state=1,n_estimators=50,min_samples_split=3)\n",
    "rf8.fit(xtrain,ytrain)\n",
    "ypred_rf8=rf8.predict(xtest)\n",
    "print('Train',f1_score(ytrain,rf8.predict(xtrain)))\n",
    "print('Test',f1_score(ytest,ypred_rf8))"
   ]
  },
  {
   "cell_type": "code",
   "execution_count": 121,
   "id": "86759344",
   "metadata": {},
   "outputs": [
    {
     "name": "stdout",
     "output_type": "stream",
     "text": [
      "Train 1.0\n",
      "Test 0.9121827411167512\n"
     ]
    }
   ],
   "source": [
    "ada=AdaBoostClassifier(RandomForestClassifier(random_state=1,n_estimators=50,min_samples_split=3,min_samples_leaf=9),random_state=1)\n",
    "ada.fit(xtrain,ytrain)\n",
    "ypred_ada=ada.predict(xtest)\n",
    "print('Train',f1_score(ytrain,ada.predict(xtrain)))\n",
    "print('Test',f1_score(ytest,ypred_ada))"
   ]
  },
  {
   "cell_type": "code",
   "execution_count": 122,
   "id": "9702b2a0",
   "metadata": {},
   "outputs": [
    {
     "name": "stdout",
     "output_type": "stream",
     "text": [
      "Train 1.0\n",
      "Test 0.9108384975338308\n"
     ]
    }
   ],
   "source": [
    "ada=AdaBoostClassifier(RandomForestClassifier(random_state=1,n_estimators=50,min_samples_split=3),random_state=1)\n",
    "ada.fit(xtrain,ytrain)\n",
    "ypred_ada=ada.predict(xtest)\n",
    "print('Train',f1_score(ytrain,ada.predict(xtrain)))\n",
    "print('Test',f1_score(ytest,ypred_ada))"
   ]
  },
  {
   "cell_type": "code",
   "execution_count": 124,
   "id": "093412bf",
   "metadata": {},
   "outputs": [
    {
     "name": "stdout",
     "output_type": "stream",
     "text": [
      "Train 0.8691009114934469\n",
      "Test 0.8132843199391557\n"
     ]
    }
   ],
   "source": [
    "rf9=RandomForestClassifier(random_state=1,n_estimators=50,min_samples_split=3,min_samples_leaf=9)\n",
    "rf9.fit(xtrain_1,ytrain)\n",
    "ypred_rf9=rf9.predict(xtest_1)\n",
    "print('Train',f1_score(ytrain,rf9.predict(xtrain_1)))\n",
    "print('Test',f1_score(ytest,ypred_rf9))"
   ]
  },
  {
   "cell_type": "code",
   "execution_count": 125,
   "id": "fb291130",
   "metadata": {},
   "outputs": [
    {
     "name": "stdout",
     "output_type": "stream",
     "text": [
      "Train 0.8372949266338189\n",
      "Test 0.7907393195190586\n"
     ]
    }
   ],
   "source": [
    "rf10=RandomForestClassifier(random_state=1,n_estimators=50,min_samples_split=3,min_samples_leaf=9)\n",
    "rf10.fit(xtrain_2,ytrain)\n",
    "ypred_rf10=rf10.predict(xtest_2)\n",
    "print('Train',f1_score(ytrain,rf10.predict(xtrain_2)))\n",
    "print('Test',f1_score(ytest,ypred_rf10))"
   ]
  },
  {
   "cell_type": "code",
   "execution_count": 126,
   "id": "29102e6d",
   "metadata": {},
   "outputs": [
    {
     "name": "stdout",
     "output_type": "stream",
     "text": [
      "Train 0.8526223584802365\n",
      "Test 0.7921507875032274\n"
     ]
    }
   ],
   "source": [
    "rf11=RandomForestClassifier(random_state=1,n_estimators=50,min_samples_split=3,min_samples_leaf=9)\n",
    "rf11.fit(xtrain_3,ytrain)\n",
    "ypred_rf11=rf11.predict(xtest_3)\n",
    "print('Train',f1_score(ytrain,rf11.predict(xtrain_3)))\n",
    "print('Test',f1_score(ytest,ypred_rf11))"
   ]
  },
  {
   "cell_type": "code",
   "execution_count": 127,
   "id": "e72701de",
   "metadata": {},
   "outputs": [
    {
     "name": "stdout",
     "output_type": "stream",
     "text": [
      "Train 0.8654793482379689\n",
      "Test 0.8067184120117064\n"
     ]
    }
   ],
   "source": [
    "rf12=RandomForestClassifier(random_state=1,n_estimators=50,min_samples_split=3,min_samples_leaf=9)\n",
    "rf12.fit(xtrain_4,ytrain)\n",
    "ypred_rf12=rf12.predict(xtest_4)\n",
    "print('Train',f1_score(ytrain,rf12.predict(xtrain_4)))\n",
    "print('Test',f1_score(ytest,ypred_rf12))"
   ]
  },
  {
   "cell_type": "code",
   "execution_count": 128,
   "id": "613e6c30",
   "metadata": {},
   "outputs": [
    {
     "name": "stdout",
     "output_type": "stream",
     "text": [
      "Train 0.8738249986571414\n",
      "Test 0.812649615723825\n"
     ]
    }
   ],
   "source": [
    "rf13=RandomForestClassifier(random_state=1,n_estimators=50,min_samples_split=3,min_samples_leaf=9)\n",
    "rf13.fit(xtrain_5,ytrain)\n",
    "ypred_rf13=rf13.predict(xtest_5)\n",
    "print('Train',f1_score(ytrain,rf13.predict(xtrain_5)))\n",
    "print('Test',f1_score(ytest,ypred_rf13))"
   ]
  },
  {
   "cell_type": "code",
   "execution_count": 129,
   "id": "710ffe96",
   "metadata": {},
   "outputs": [
    {
     "name": "stdout",
     "output_type": "stream",
     "text": [
      "Train 0.9993524714008202\n",
      "Test 0.906563126252505\n"
     ]
    }
   ],
   "source": [
    "rf14=RandomForestClassifier(random_state=1,n_estimators=50,min_samples_split=3)\n",
    "rf14.fit(xtrain_1,ytrain)\n",
    "ypred_rf14=rf14.predict(xtest_1)\n",
    "print('Train',f1_score(ytrain,rf14.predict(xtrain_1)))\n",
    "print('Test',f1_score(ytest,ypred_rf14))"
   ]
  },
  {
   "cell_type": "code",
   "execution_count": 130,
   "id": "2f677150",
   "metadata": {},
   "outputs": [
    {
     "name": "stdout",
     "output_type": "stream",
     "text": [
      "Train 0.9982180463307955\n",
      "Test 0.907409721354492\n"
     ]
    }
   ],
   "source": [
    "rf15=RandomForestClassifier(random_state=1,n_estimators=50,min_samples_split=3)\n",
    "rf15.fit(xtrain_2,ytrain)\n",
    "ypred_rf15=rf15.predict(xtest_2)\n",
    "print('Train',f1_score(ytrain,rf15.predict(xtrain_2)))\n",
    "print('Test',f1_score(ytest,ypred_rf15))"
   ]
  },
  {
   "cell_type": "code",
   "execution_count": 131,
   "id": "9a5606e4",
   "metadata": {},
   "outputs": [
    {
     "name": "stdout",
     "output_type": "stream",
     "text": [
      "Train 0.9985959606868993\n",
      "Test 0.9050181454135903\n"
     ]
    }
   ],
   "source": [
    "rf16=RandomForestClassifier(random_state=1,n_estimators=50,min_samples_split=3)\n",
    "rf16.fit(xtrain_3,ytrain)\n",
    "ypred_rf16=rf16.predict(xtest_3)\n",
    "print('Train',f1_score(ytrain,rf16.predict(xtrain_3)))\n",
    "print('Test',f1_score(ytest,ypred_rf16))"
   ]
  },
  {
   "cell_type": "code",
   "execution_count": 132,
   "id": "af160634",
   "metadata": {},
   "outputs": [
    {
     "name": "stdout",
     "output_type": "stream",
     "text": [
      "Train 0.9990824202515248\n",
      "Test 0.9086135766970872\n"
     ]
    }
   ],
   "source": [
    "rf17=RandomForestClassifier(random_state=1,n_estimators=50,min_samples_split=3)\n",
    "rf17.fit(xtrain_4,ytrain)\n",
    "ypred_rf17=rf17.predict(xtest_4)\n",
    "print('Train',f1_score(ytrain,rf17.predict(xtrain_4)))\n",
    "print('Test',f1_score(ytest,ypred_rf17))"
   ]
  },
  {
   "cell_type": "code",
   "execution_count": 133,
   "id": "e9271f52",
   "metadata": {},
   "outputs": [
    {
     "name": "stdout",
     "output_type": "stream",
     "text": [
      "Train 0.9991905455722843\n",
      "Test 0.9087276813584717\n"
     ]
    }
   ],
   "source": [
    "rf18=RandomForestClassifier(random_state=1,n_estimators=50,min_samples_split=3)\n",
    "rf18.fit(xtrain_5,ytrain)\n",
    "ypred_rf18=rf18.predict(xtest_5)\n",
    "print('Train',f1_score(ytrain,rf18.predict(xtrain_5)))\n",
    "print('Test',f1_score(ytest,ypred_rf18))"
   ]
  },
  {
   "cell_type": "code",
   "execution_count": 154,
   "id": "6ea371ff",
   "metadata": {},
   "outputs": [
    {
     "name": "stdout",
     "output_type": "stream",
     "text": [
      "Train 0.8356471935853379\n",
      "Test 0.8015873015873017\n"
     ]
    }
   ],
   "source": [
    "rf19=RandomForestClassifier(random_state=1,n_estimators=50,min_samples_split=3,min_samples_leaf=9,class_weight={0:1,1:4})\n",
    "rf19.fit(xtrain,ytrain)\n",
    "ypred_rf19=rf19.predict(xtest)\n",
    "print('Train',f1_score(ytrain,rf19.predict(xtrain)))\n",
    "print('Test',f1_score(ytest,ypred_rf19))"
   ]
  },
  {
   "cell_type": "code",
   "execution_count": 167,
   "id": "75a81b6d",
   "metadata": {},
   "outputs": [
    {
     "name": "stdout",
     "output_type": "stream",
     "text": [
      "Train 0.9994607420189819\n",
      "Test 0.9082718057815041\n"
     ]
    }
   ],
   "source": [
    "rf20=RandomForestClassifier(random_state=1,n_estimators=50,min_samples_split=3,class_weight={0:1,1:4})\n",
    "rf20.fit(xtrain,ytrain)\n",
    "ypred_rf20=rf20.predict(xtest)\n",
    "print('Train',f1_score(ytrain,rf20.predict(xtrain)))\n",
    "print('Test',f1_score(ytest,ypred_rf20))"
   ]
  },
  {
   "cell_type": "code",
   "execution_count": 171,
   "id": "3a67eaf2",
   "metadata": {},
   "outputs": [
    {
     "name": "stdout",
     "output_type": "stream",
     "text": [
      "0.8631254279251329\n"
     ]
    }
   ],
   "source": [
    "print(roc_auc_score(ytest,ypred_rf7))"
   ]
  },
  {
   "cell_type": "code",
   "execution_count": 172,
   "id": "fe8eaacb",
   "metadata": {},
   "outputs": [
    {
     "name": "stdout",
     "output_type": "stream",
     "text": [
      "0.9413037080042413\n"
     ]
    }
   ],
   "source": [
    "print(roc_auc_score(ytest,ypred_rf8))"
   ]
  },
  {
   "cell_type": "code",
   "execution_count": 173,
   "id": "9df2cb17",
   "metadata": {},
   "outputs": [
    {
     "name": "stdout",
     "output_type": "stream",
     "text": [
      "0.8877075711316024\n"
     ]
    }
   ],
   "source": [
    "print(roc_auc_score(ytest,ypred_rf19))"
   ]
  },
  {
   "cell_type": "code",
   "execution_count": 174,
   "id": "dbee987a",
   "metadata": {},
   "outputs": [
    {
     "name": "stdout",
     "output_type": "stream",
     "text": [
      "0.9399489143618426\n"
     ]
    }
   ],
   "source": [
    "print(roc_auc_score(ytest,ypred_rf20))"
   ]
  },
  {
   "cell_type": "code",
   "execution_count": 175,
   "id": "69cf8cc7",
   "metadata": {},
   "outputs": [
    {
     "data": {
      "image/png": "[encoded data removed]",
      "text/plain": [
       "<Figure size 640x480 with 1 Axes>"
      ]
     },
     "metadata": {},
     "output_type": "display_data"
    }
   ],
   "source": [
    "# rf7\n",
    "#################\n",
    "y_pred_prob_rf7=rf7.predict_proba(xtest)[:,1]\n",
    "fpr,tpr,thresholds=roc_curve(ytest,y_pred_prob_rf7)\n",
    "auc_score_rf7=roc_auc_score(ytest,y_pred_prob_rf7)\n",
    "plt.plot(fpr,tpr,label='RF7 Model (AUC Score = %0.4f)'%auc_score_rf7)\n",
    "\n",
    "#################\n",
    "# rf8\n",
    "y_pred_prob_rf8=rf8.predict_proba(xtest)[:,1]\n",
    "fpr,tpr,thresholds=roc_curve(ytest,y_pred_prob_rf8)\n",
    "auc_score_rf8=roc_auc_score(ytest,y_pred_prob_rf8)\n",
    "plt.plot(fpr,tpr,label='RF8 Model (AUC Score = %0.4f)'%auc_score_rf8)\n",
    "\n",
    "#################\n",
    "# rf19\n",
    "y_pred_prob_rf19=rf19.predict_proba(xtest)[:,1]\n",
    "fpr,tpr,thresholds=roc_curve(ytest,y_pred_prob_rf19)\n",
    "auc_score_rf19=roc_auc_score(ytest,y_pred_prob_rf19)\n",
    "plt.plot(fpr,tpr,label='RF19 Model (AUC Score = %0.4f)'%auc_score_rf19)\n",
    "\n",
    "###############\n",
    "# rf20\n",
    "y_pred_prob_rf20=rf20.predict_proba(xtest)[:,1]\n",
    "fpr,tpr,thresholds=roc_curve(ytest,y_pred_prob_rf20)\n",
    "auc_score_rf20=roc_auc_score(ytest,y_pred_prob_rf20)\n",
    "plt.plot(fpr,tpr,label='RF20 Model (AUC Score = %0.4f)'%auc_score_rf20)\n",
    "\n",
    "plt.xlim([-0.1, 1.1])\n",
    "plt.ylim([-0.1, 1.1])\n",
    "plt.plot([0, 1], [0, 1],'r--')\n",
    "\n",
    "plt.title('RF7, RF8, RF19, RF20 model', fontsize = 15)\n",
    "plt.xlabel('False positive rate (1-Specificity)', fontsize = 15)\n",
    "plt.ylabel('True positive rate (Sensitivity)', fontsize = 15)\n",
    "\n",
    "plt.legend(loc = 'lower right')\n",
    "plt.grid(True)"
   ]
  },
  {
   "cell_type": "code",
   "execution_count": 176,
   "id": "42f0d771",
   "metadata": {},
   "outputs": [
    {
     "data": {
      "text/html": [
       "<div>\n",
       "<style scoped>\n",
       "    .dataframe tbody tr th:only-of-type {\n",
       "        vertical-align: middle;\n",
       "    }\n",
       "\n",
       "    .dataframe tbody tr th {\n",
       "        vertical-align: top;\n",
       "    }\n",
       "\n",
       "    .dataframe thead th {\n",
       "        text-align: right;\n",
       "    }\n",
       "</style>\n",
       "<table border=\"1\" class=\"dataframe\">\n",
       "  <thead>\n",
       "    <tr style=\"text-align: right;\">\n",
       "      <th></th>\n",
       "      <th>age</th>\n",
       "      <th>balance</th>\n",
       "      <th>duration</th>\n",
       "      <th>campaign</th>\n",
       "      <th>pdays</th>\n",
       "      <th>previous</th>\n",
       "      <th>job</th>\n",
       "      <th>marital</th>\n",
       "      <th>education</th>\n",
       "      <th>default</th>\n",
       "      <th>housing</th>\n",
       "      <th>loan</th>\n",
       "      <th>day</th>\n",
       "      <th>month</th>\n",
       "      <th>y</th>\n",
       "    </tr>\n",
       "  </thead>\n",
       "  <tbody>\n",
       "    <tr>\n",
       "      <th>35390</th>\n",
       "      <td>1.207109</td>\n",
       "      <td>1.641432</td>\n",
       "      <td>-0.148974</td>\n",
       "      <td>-1.108763</td>\n",
       "      <td>-0.472220</td>\n",
       "      <td>-0.472194</td>\n",
       "      <td>1</td>\n",
       "      <td>1</td>\n",
       "      <td>0</td>\n",
       "      <td>0</td>\n",
       "      <td>1</td>\n",
       "      <td>0</td>\n",
       "      <td>6</td>\n",
       "      <td>8</td>\n",
       "      <td>0</td>\n",
       "    </tr>\n",
       "    <tr>\n",
       "      <th>12637</th>\n",
       "      <td>-0.362241</td>\n",
       "      <td>-0.111324</td>\n",
       "      <td>-0.814563</td>\n",
       "      <td>0.736410</td>\n",
       "      <td>-0.472220</td>\n",
       "      <td>-0.472194</td>\n",
       "      <td>4</td>\n",
       "      <td>2</td>\n",
       "      <td>2</td>\n",
       "      <td>0</td>\n",
       "      <td>0</td>\n",
       "      <td>1</td>\n",
       "      <td>3</td>\n",
       "      <td>5</td>\n",
       "      <td>0</td>\n",
       "    </tr>\n",
       "    <tr>\n",
       "      <th>5358</th>\n",
       "      <td>0.152738</td>\n",
       "      <td>-0.420935</td>\n",
       "      <td>-0.704114</td>\n",
       "      <td>-1.108763</td>\n",
       "      <td>-0.472220</td>\n",
       "      <td>-0.472194</td>\n",
       "      <td>4</td>\n",
       "      <td>2</td>\n",
       "      <td>2</td>\n",
       "      <td>0</td>\n",
       "      <td>0</td>\n",
       "      <td>0</td>\n",
       "      <td>22</td>\n",
       "      <td>8</td>\n",
       "      <td>0</td>\n",
       "    </tr>\n",
       "    <tr>\n",
       "      <th>34863</th>\n",
       "      <td>-0.967873</td>\n",
       "      <td>-0.227403</td>\n",
       "      <td>0.669558</td>\n",
       "      <td>-1.108763</td>\n",
       "      <td>-0.472220</td>\n",
       "      <td>-0.472194</td>\n",
       "      <td>3</td>\n",
       "      <td>2</td>\n",
       "      <td>2</td>\n",
       "      <td>0</td>\n",
       "      <td>1</td>\n",
       "      <td>0</td>\n",
       "      <td>5</td>\n",
       "      <td>8</td>\n",
       "      <td>0</td>\n",
       "    </tr>\n",
       "    <tr>\n",
       "      <th>4299</th>\n",
       "      <td>-0.252836</td>\n",
       "      <td>-0.434374</td>\n",
       "      <td>0.007575</td>\n",
       "      <td>0.133431</td>\n",
       "      <td>-0.472220</td>\n",
       "      <td>-0.472194</td>\n",
       "      <td>7</td>\n",
       "      <td>1</td>\n",
       "      <td>1</td>\n",
       "      <td>0</td>\n",
       "      <td>1</td>\n",
       "      <td>1</td>\n",
       "      <td>30</td>\n",
       "      <td>5</td>\n",
       "      <td>0</td>\n",
       "    </tr>\n",
       "    <tr>\n",
       "      <th>...</th>\n",
       "      <td>...</td>\n",
       "      <td>...</td>\n",
       "      <td>...</td>\n",
       "      <td>...</td>\n",
       "      <td>...</td>\n",
       "      <td>...</td>\n",
       "      <td>...</td>\n",
       "      <td>...</td>\n",
       "      <td>...</td>\n",
       "      <td>...</td>\n",
       "      <td>...</td>\n",
       "      <td>...</td>\n",
       "      <td>...</td>\n",
       "      <td>...</td>\n",
       "      <td>...</td>\n",
       "    </tr>\n",
       "    <tr>\n",
       "      <th>24064</th>\n",
       "      <td>-0.712899</td>\n",
       "      <td>0.827207</td>\n",
       "      <td>-0.275121</td>\n",
       "      <td>-1.108763</td>\n",
       "      <td>2.096526</td>\n",
       "      <td>2.173176</td>\n",
       "      <td>7</td>\n",
       "      <td>1</td>\n",
       "      <td>1</td>\n",
       "      <td>0</td>\n",
       "      <td>1</td>\n",
       "      <td>0</td>\n",
       "      <td>20</td>\n",
       "      <td>10</td>\n",
       "      <td>1</td>\n",
       "    </tr>\n",
       "    <tr>\n",
       "      <th>30548</th>\n",
       "      <td>-0.838079</td>\n",
       "      <td>-0.434374</td>\n",
       "      <td>1.289596</td>\n",
       "      <td>1.090458</td>\n",
       "      <td>-0.472220</td>\n",
       "      <td>-0.472194</td>\n",
       "      <td>4</td>\n",
       "      <td>2</td>\n",
       "      <td>2</td>\n",
       "      <td>0</td>\n",
       "      <td>0</td>\n",
       "      <td>0</td>\n",
       "      <td>4</td>\n",
       "      <td>3</td>\n",
       "      <td>1</td>\n",
       "    </tr>\n",
       "    <tr>\n",
       "      <th>28977</th>\n",
       "      <td>0.681734</td>\n",
       "      <td>-0.377636</td>\n",
       "      <td>2.201148</td>\n",
       "      <td>-1.108763</td>\n",
       "      <td>-0.472220</td>\n",
       "      <td>-0.472194</td>\n",
       "      <td>4</td>\n",
       "      <td>2</td>\n",
       "      <td>2</td>\n",
       "      <td>0</td>\n",
       "      <td>0</td>\n",
       "      <td>0</td>\n",
       "      <td>1</td>\n",
       "      <td>3</td>\n",
       "      <td>1</td>\n",
       "    </tr>\n",
       "    <tr>\n",
       "      <th>38955</th>\n",
       "      <td>-1.540168</td>\n",
       "      <td>-0.178753</td>\n",
       "      <td>0.732622</td>\n",
       "      <td>-1.108763</td>\n",
       "      <td>-0.472220</td>\n",
       "      <td>-0.472194</td>\n",
       "      <td>1</td>\n",
       "      <td>2</td>\n",
       "      <td>1</td>\n",
       "      <td>0</td>\n",
       "      <td>1</td>\n",
       "      <td>1</td>\n",
       "      <td>17</td>\n",
       "      <td>8</td>\n",
       "      <td>1</td>\n",
       "    </tr>\n",
       "    <tr>\n",
       "      <th>41278</th>\n",
       "      <td>-0.362241</td>\n",
       "      <td>-0.292341</td>\n",
       "      <td>0.296826</td>\n",
       "      <td>1.485899</td>\n",
       "      <td>2.098539</td>\n",
       "      <td>2.173176</td>\n",
       "      <td>4</td>\n",
       "      <td>1</td>\n",
       "      <td>2</td>\n",
       "      <td>0</td>\n",
       "      <td>0</td>\n",
       "      <td>0</td>\n",
       "      <td>24</td>\n",
       "      <td>1</td>\n",
       "      <td>1</td>\n",
       "    </tr>\n",
       "  </tbody>\n",
       "</table>\n",
       "<p>43922 rows × 15 columns</p>\n",
       "</div>"
      ],
      "text/plain": [
       "            age   balance  duration  campaign     pdays  previous  job  \\\n",
       "35390  1.207109  1.641432 -0.148974 -1.108763 -0.472220 -0.472194    1   \n",
       "12637 -0.362241 -0.111324 -0.814563  0.736410 -0.472220 -0.472194    4   \n",
       "5358   0.152738 -0.420935 -0.704114 -1.108763 -0.472220 -0.472194    4   \n",
       "34863 -0.967873 -0.227403  0.669558 -1.108763 -0.472220 -0.472194    3   \n",
       "4299  -0.252836 -0.434374  0.007575  0.133431 -0.472220 -0.472194    7   \n",
       "...         ...       ...       ...       ...       ...       ...  ...   \n",
       "24064 -0.712899  0.827207 -0.275121 -1.108763  2.096526  2.173176    7   \n",
       "30548 -0.838079 -0.434374  1.289596  1.090458 -0.472220 -0.472194    4   \n",
       "28977  0.681734 -0.377636  2.201148 -1.108763 -0.472220 -0.472194    4   \n",
       "38955 -1.540168 -0.178753  0.732622 -1.108763 -0.472220 -0.472194    1   \n",
       "41278 -0.362241 -0.292341  0.296826  1.485899  2.098539  2.173176    4   \n",
       "\n",
       "       marital  education  default  housing  loan  day  month  y  \n",
       "35390        1          0        0        1     0    6      8  0  \n",
       "12637        2          2        0        0     1    3      5  0  \n",
       "5358         2          2        0        0     0   22      8  0  \n",
       "34863        2          2        0        1     0    5      8  0  \n",
       "4299         1          1        0        1     1   30      5  0  \n",
       "...        ...        ...      ...      ...   ...  ...    ... ..  \n",
       "24064        1          1        0        1     0   20     10  1  \n",
       "30548        2          2        0        0     0    4      3  1  \n",
       "28977        2          2        0        0     0    1      3  1  \n",
       "38955        2          1        0        1     1   17      8  1  \n",
       "41278        1          2        0        0     0   24      1  1  \n",
       "\n",
       "[43922 rows x 15 columns]"
      ]
     },
     "execution_count": 176,
     "metadata": {},
     "output_type": "execute_result"
    }
   ],
   "source": [
    "df3"
   ]
  },
  {
   "cell_type": "code",
   "execution_count": 181,
   "id": "97a554fb",
   "metadata": {},
   "outputs": [],
   "source": [
    "df['bal_type']=df['balance'].apply(lambda x: 'Negative' if x<0 else 'Positive')"
   ]
  },
  {
   "cell_type": "code",
   "execution_count": 182,
   "id": "2d583c2f",
   "metadata": {},
   "outputs": [
    {
     "data": {
      "text/plain": [
       "<AxesSubplot:xlabel='bal_type', ylabel='count'>"
      ]
     },
     "execution_count": 182,
     "metadata": {},
     "output_type": "execute_result"
    },
    {
     "data": {
      "image/png": "[encoded data removed]",
      "text/plain": [
       "<Figure size 640x480 with 1 Axes>"
      ]
     },
     "metadata": {},
     "output_type": "display_data"
    }
   ],
   "source": [
    "y=df[df['y']=='yes']\n",
    "sns.countplot(y['bal_type'])"
   ]
  },
  {
   "cell_type": "code",
   "execution_count": 183,
   "id": "4430e232",
   "metadata": {},
   "outputs": [
    {
     "data": {
      "text/plain": [
       "array([0.10241378, 0.10030324, 0.35015892, 0.03534512, 0.06853066,\n",
       "       0.03198024, 0.04353539, 0.02055079, 0.0203395 , 0.00171203,\n",
       "       0.03713223, 0.01211941, 0.0837596 , 0.0921191 ])"
      ]
     },
     "execution_count": 183,
     "metadata": {},
     "output_type": "execute_result"
    }
   ],
   "source": [
    "rf8.feature_importances_"
   ]
  },
  {
   "cell_type": "code",
   "execution_count": 184,
   "id": "286dacad",
   "metadata": {},
   "outputs": [
    {
     "data": {
      "text/plain": [
       "['age',\n",
       " 'balance',\n",
       " 'duration',\n",
       " 'campaign',\n",
       " 'pdays',\n",
       " 'previous',\n",
       " 'job',\n",
       " 'housing',\n",
       " 'day',\n",
       " 'month']"
      ]
     },
     "execution_count": 184,
     "metadata": {},
     "output_type": "execute_result"
    }
   ],
   "source": [
    "rfe=RFE(estimator=rf,n_features_to_select=0.75)\n",
    "rfe.fit(xtrain,ytrain)\n",
    "rfe1=pd.DataFrame({'columns':rfe.feature_names_in_,\n",
    "                  'rank':rfe.ranking_})\n",
    "rfe1[rfe1['rank']==1][['columns']].values.tolist()\n",
    "l=[]\n",
    "\n",
    "for i in rfe1[rfe1['rank']==1][['columns']].values:\n",
    "    l.extend(list(i))\n",
    "l"
   ]
  },
  {
   "cell_type": "code",
   "execution_count": 185,
   "id": "bc80fd4d",
   "metadata": {},
   "outputs": [],
   "source": [
    "xtrain_new1=xtrain[l]\n",
    "xtest_new1=xtest[l]"
   ]
  },
  {
   "cell_type": "code",
   "execution_count": 186,
   "id": "ed44323f",
   "metadata": {},
   "outputs": [
    {
     "name": "stdout",
     "output_type": "stream",
     "text": [
      "Train 1.0\n",
      "Test 0.9108812165025552\n"
     ]
    }
   ],
   "source": [
    "rfe1=RandomForestClassifier(random_state=1)\n",
    "rfe1.fit(xtrain_new1,ytrain)\n",
    "ypred_rfe1=rfe1.predict(xtest_new1)\n",
    "print('Train',f1_score(ytrain,rfe1.predict(xtrain_new1)))\n",
    "print('Test',f1_score(ytest,ypred_rfe1))"
   ]
  },
  {
   "cell_type": "code",
   "execution_count": 187,
   "id": "9c3df258",
   "metadata": {},
   "outputs": [
    {
     "data": {
      "text/html": [
       "<div>\n",
       "<style scoped>\n",
       "    .dataframe tbody tr th:only-of-type {\n",
       "        vertical-align: middle;\n",
       "    }\n",
       "\n",
       "    .dataframe tbody tr th {\n",
       "        vertical-align: top;\n",
       "    }\n",
       "\n",
       "    .dataframe thead th {\n",
       "        text-align: right;\n",
       "    }\n",
       "</style>\n",
       "<table border=\"1\" class=\"dataframe\">\n",
       "  <thead>\n",
       "    <tr style=\"text-align: right;\">\n",
       "      <th></th>\n",
       "      <th>model name</th>\n",
       "      <th>accuracy</th>\n",
       "      <th>recall</th>\n",
       "      <th>precision</th>\n",
       "      <th>f1</th>\n",
       "    </tr>\n",
       "  </thead>\n",
       "  <tbody>\n",
       "    <tr>\n",
       "      <th>14</th>\n",
       "      <td>Random Forest rs 1 threshold 0.6</td>\n",
       "      <td>0.948623</td>\n",
       "      <td>0.902714</td>\n",
       "      <td>0.922312</td>\n",
       "      <td>0.912408</td>\n",
       "    </tr>\n",
       "    <tr>\n",
       "      <th>0</th>\n",
       "      <td>Random Forest rs1</td>\n",
       "      <td>0.946422</td>\n",
       "      <td>0.931388</td>\n",
       "      <td>0.892542</td>\n",
       "      <td>0.911551</td>\n",
       "    </tr>\n",
       "    <tr>\n",
       "      <th>1</th>\n",
       "      <td>Random Forest info gain feat selection</td>\n",
       "      <td>0.945208</td>\n",
       "      <td>0.934460</td>\n",
       "      <td>0.886783</td>\n",
       "      <td>0.909998</td>\n",
       "    </tr>\n",
       "    <tr>\n",
       "      <th>2</th>\n",
       "      <td>Random Forest sfs forward</td>\n",
       "      <td>0.945283</td>\n",
       "      <td>0.931388</td>\n",
       "      <td>0.889269</td>\n",
       "      <td>0.909841</td>\n",
       "    </tr>\n",
       "    <tr>\n",
       "      <th>3</th>\n",
       "      <td>RandomForest</td>\n",
       "      <td>0.945132</td>\n",
       "      <td>0.931388</td>\n",
       "      <td>0.888835</td>\n",
       "      <td>0.909614</td>\n",
       "    </tr>\n",
       "    <tr>\n",
       "      <th>4</th>\n",
       "      <td>Random Forest sfs backward</td>\n",
       "      <td>0.944828</td>\n",
       "      <td>0.931900</td>\n",
       "      <td>0.887588</td>\n",
       "      <td>0.909204</td>\n",
       "    </tr>\n",
       "    <tr>\n",
       "      <th>5</th>\n",
       "      <td>Random Forest rf importances 1</td>\n",
       "      <td>0.944297</td>\n",
       "      <td>0.929852</td>\n",
       "      <td>0.887586</td>\n",
       "      <td>0.908227</td>\n",
       "    </tr>\n",
       "    <tr>\n",
       "      <th>6</th>\n",
       "      <td>Random Forest with age removed</td>\n",
       "      <td>0.943766</td>\n",
       "      <td>0.929852</td>\n",
       "      <td>0.886070</td>\n",
       "      <td>0.907433</td>\n",
       "    </tr>\n",
       "    <tr>\n",
       "      <th>7</th>\n",
       "      <td>Decision Tree</td>\n",
       "      <td>0.927829</td>\n",
       "      <td>0.922171</td>\n",
       "      <td>0.847729</td>\n",
       "      <td>0.883384</td>\n",
       "    </tr>\n",
       "    <tr>\n",
       "      <th>8</th>\n",
       "      <td>Xgboost</td>\n",
       "      <td>0.910754</td>\n",
       "      <td>0.868408</td>\n",
       "      <td>0.836704</td>\n",
       "      <td>0.852261</td>\n",
       "    </tr>\n",
       "    <tr>\n",
       "      <th>9</th>\n",
       "      <td>KNN</td>\n",
       "      <td>0.860135</td>\n",
       "      <td>0.763953</td>\n",
       "      <td>0.764149</td>\n",
       "      <td>0.764051</td>\n",
       "    </tr>\n",
       "    <tr>\n",
       "      <th>10</th>\n",
       "      <td>GradientBoost</td>\n",
       "      <td>0.844502</td>\n",
       "      <td>0.716590</td>\n",
       "      <td>0.748196</td>\n",
       "      <td>0.732052</td>\n",
       "    </tr>\n",
       "    <tr>\n",
       "      <th>11</th>\n",
       "      <td>Logreg</td>\n",
       "      <td>0.809289</td>\n",
       "      <td>0.602919</td>\n",
       "      <td>0.709979</td>\n",
       "      <td>0.652084</td>\n",
       "    </tr>\n",
       "    <tr>\n",
       "      <th>12</th>\n",
       "      <td>Naive Bayes</td>\n",
       "      <td>0.774228</td>\n",
       "      <td>0.648490</td>\n",
       "      <td>0.612576</td>\n",
       "      <td>0.630021</td>\n",
       "    </tr>\n",
       "    <tr>\n",
       "      <th>13</th>\n",
       "      <td>GaussianNB</td>\n",
       "      <td>0.774228</td>\n",
       "      <td>0.648490</td>\n",
       "      <td>0.612576</td>\n",
       "      <td>0.630021</td>\n",
       "    </tr>\n",
       "  </tbody>\n",
       "</table>\n",
       "</div>"
      ],
      "text/plain": [
       "                                model name  accuracy    recall  precision  \\\n",
       "14        Random Forest rs 1 threshold 0.6  0.948623  0.902714   0.922312   \n",
       "0                        Random Forest rs1  0.946422  0.931388   0.892542   \n",
       "1   Random Forest info gain feat selection  0.945208  0.934460   0.886783   \n",
       "2                Random Forest sfs forward  0.945283  0.931388   0.889269   \n",
       "3                             RandomForest  0.945132  0.931388   0.888835   \n",
       "4               Random Forest sfs backward  0.944828  0.931900   0.887588   \n",
       "5           Random Forest rf importances 1  0.944297  0.929852   0.887586   \n",
       "6           Random Forest with age removed  0.943766  0.929852   0.886070   \n",
       "7                            Decision Tree  0.927829  0.922171   0.847729   \n",
       "8                                  Xgboost  0.910754  0.868408   0.836704   \n",
       "9                                      KNN  0.860135  0.763953   0.764149   \n",
       "10                           GradientBoost  0.844502  0.716590   0.748196   \n",
       "11                                  Logreg  0.809289  0.602919   0.709979   \n",
       "12                             Naive Bayes  0.774228  0.648490   0.612576   \n",
       "13                              GaussianNB  0.774228  0.648490   0.612576   \n",
       "\n",
       "          f1  \n",
       "14  0.912408  \n",
       "0   0.911551  \n",
       "1   0.909998  \n",
       "2   0.909841  \n",
       "3   0.909614  \n",
       "4   0.909204  \n",
       "5   0.908227  \n",
       "6   0.907433  \n",
       "7   0.883384  \n",
       "8   0.852261  \n",
       "9   0.764051  \n",
       "10  0.732052  \n",
       "11  0.652084  \n",
       "12  0.630021  \n",
       "13  0.630021  "
      ]
     },
     "execution_count": 187,
     "metadata": {},
     "output_type": "execute_result"
    }
   ],
   "source": [
    "models_report"
   ]
  },
  {
   "cell_type": "code",
   "execution_count": 189,
   "id": "a88807cc",
   "metadata": {},
   "outputs": [
    {
     "data": {
      "text/html": [
       "<div>\n",
       "<style scoped>\n",
       "    .dataframe tbody tr th:only-of-type {\n",
       "        vertical-align: middle;\n",
       "    }\n",
       "\n",
       "    .dataframe tbody tr th {\n",
       "        vertical-align: top;\n",
       "    }\n",
       "\n",
       "    .dataframe thead th {\n",
       "        text-align: right;\n",
       "    }\n",
       "</style>\n",
       "<table border=\"1\" class=\"dataframe\">\n",
       "  <thead>\n",
       "    <tr style=\"text-align: right;\">\n",
       "      <th></th>\n",
       "      <th>model name</th>\n",
       "      <th>accuracy</th>\n",
       "      <th>recall</th>\n",
       "      <th>precision</th>\n",
       "      <th>f1</th>\n",
       "    </tr>\n",
       "  </thead>\n",
       "  <tbody>\n",
       "    <tr>\n",
       "      <th>0</th>\n",
       "      <td>Random Forest rs 1 threshold 0.6</td>\n",
       "      <td>0.948623</td>\n",
       "      <td>0.902714</td>\n",
       "      <td>0.922312</td>\n",
       "      <td>0.912408</td>\n",
       "    </tr>\n",
       "    <tr>\n",
       "      <th>1</th>\n",
       "      <td>Random Forest rs1</td>\n",
       "      <td>0.946422</td>\n",
       "      <td>0.931388</td>\n",
       "      <td>0.892542</td>\n",
       "      <td>0.911551</td>\n",
       "    </tr>\n",
       "    <tr>\n",
       "      <th>15</th>\n",
       "      <td>Random Forest rfe 0.75</td>\n",
       "      <td>0.945739</td>\n",
       "      <td>0.935484</td>\n",
       "      <td>0.887539</td>\n",
       "      <td>0.910881</td>\n",
       "    </tr>\n",
       "    <tr>\n",
       "      <th>2</th>\n",
       "      <td>Random Forest info gain feat selection</td>\n",
       "      <td>0.945208</td>\n",
       "      <td>0.934460</td>\n",
       "      <td>0.886783</td>\n",
       "      <td>0.909998</td>\n",
       "    </tr>\n",
       "    <tr>\n",
       "      <th>3</th>\n",
       "      <td>Random Forest sfs forward</td>\n",
       "      <td>0.945283</td>\n",
       "      <td>0.931388</td>\n",
       "      <td>0.889269</td>\n",
       "      <td>0.909841</td>\n",
       "    </tr>\n",
       "    <tr>\n",
       "      <th>4</th>\n",
       "      <td>RandomForest</td>\n",
       "      <td>0.945132</td>\n",
       "      <td>0.931388</td>\n",
       "      <td>0.888835</td>\n",
       "      <td>0.909614</td>\n",
       "    </tr>\n",
       "    <tr>\n",
       "      <th>5</th>\n",
       "      <td>Random Forest sfs backward</td>\n",
       "      <td>0.944828</td>\n",
       "      <td>0.931900</td>\n",
       "      <td>0.887588</td>\n",
       "      <td>0.909204</td>\n",
       "    </tr>\n",
       "    <tr>\n",
       "      <th>6</th>\n",
       "      <td>Random Forest rf importances 1</td>\n",
       "      <td>0.944297</td>\n",
       "      <td>0.929852</td>\n",
       "      <td>0.887586</td>\n",
       "      <td>0.908227</td>\n",
       "    </tr>\n",
       "    <tr>\n",
       "      <th>7</th>\n",
       "      <td>Random Forest with age removed</td>\n",
       "      <td>0.943766</td>\n",
       "      <td>0.929852</td>\n",
       "      <td>0.886070</td>\n",
       "      <td>0.907433</td>\n",
       "    </tr>\n",
       "    <tr>\n",
       "      <th>8</th>\n",
       "      <td>Decision Tree</td>\n",
       "      <td>0.927829</td>\n",
       "      <td>0.922171</td>\n",
       "      <td>0.847729</td>\n",
       "      <td>0.883384</td>\n",
       "    </tr>\n",
       "    <tr>\n",
       "      <th>9</th>\n",
       "      <td>Xgboost</td>\n",
       "      <td>0.910754</td>\n",
       "      <td>0.868408</td>\n",
       "      <td>0.836704</td>\n",
       "      <td>0.852261</td>\n",
       "    </tr>\n",
       "    <tr>\n",
       "      <th>10</th>\n",
       "      <td>KNN</td>\n",
       "      <td>0.860135</td>\n",
       "      <td>0.763953</td>\n",
       "      <td>0.764149</td>\n",
       "      <td>0.764051</td>\n",
       "    </tr>\n",
       "    <tr>\n",
       "      <th>11</th>\n",
       "      <td>GradientBoost</td>\n",
       "      <td>0.844502</td>\n",
       "      <td>0.716590</td>\n",
       "      <td>0.748196</td>\n",
       "      <td>0.732052</td>\n",
       "    </tr>\n",
       "    <tr>\n",
       "      <th>12</th>\n",
       "      <td>Logreg</td>\n",
       "      <td>0.809289</td>\n",
       "      <td>0.602919</td>\n",
       "      <td>0.709979</td>\n",
       "      <td>0.652084</td>\n",
       "    </tr>\n",
       "    <tr>\n",
       "      <th>13</th>\n",
       "      <td>Naive Bayes</td>\n",
       "      <td>0.774228</td>\n",
       "      <td>0.648490</td>\n",
       "      <td>0.612576</td>\n",
       "      <td>0.630021</td>\n",
       "    </tr>\n",
       "    <tr>\n",
       "      <th>14</th>\n",
       "      <td>GaussianNB</td>\n",
       "      <td>0.774228</td>\n",
       "      <td>0.648490</td>\n",
       "      <td>0.612576</td>\n",
       "      <td>0.630021</td>\n",
       "    </tr>\n",
       "  </tbody>\n",
       "</table>\n",
       "</div>"
      ],
      "text/plain": [
       "                                model name  accuracy    recall  precision  \\\n",
       "0         Random Forest rs 1 threshold 0.6  0.948623  0.902714   0.922312   \n",
       "1                        Random Forest rs1  0.946422  0.931388   0.892542   \n",
       "15                  Random Forest rfe 0.75  0.945739  0.935484   0.887539   \n",
       "2   Random Forest info gain feat selection  0.945208  0.934460   0.886783   \n",
       "3                Random Forest sfs forward  0.945283  0.931388   0.889269   \n",
       "4                             RandomForest  0.945132  0.931388   0.888835   \n",
       "5               Random Forest sfs backward  0.944828  0.931900   0.887588   \n",
       "6           Random Forest rf importances 1  0.944297  0.929852   0.887586   \n",
       "7           Random Forest with age removed  0.943766  0.929852   0.886070   \n",
       "8                            Decision Tree  0.927829  0.922171   0.847729   \n",
       "9                                  Xgboost  0.910754  0.868408   0.836704   \n",
       "10                                     KNN  0.860135  0.763953   0.764149   \n",
       "11                           GradientBoost  0.844502  0.716590   0.748196   \n",
       "12                                  Logreg  0.809289  0.602919   0.709979   \n",
       "13                             Naive Bayes  0.774228  0.648490   0.612576   \n",
       "14                              GaussianNB  0.774228  0.648490   0.612576   \n",
       "\n",
       "          f1  \n",
       "0   0.912408  \n",
       "1   0.911551  \n",
       "15  0.910881  \n",
       "2   0.909998  \n",
       "3   0.909841  \n",
       "4   0.909614  \n",
       "5   0.909204  \n",
       "6   0.908227  \n",
       "7   0.907433  \n",
       "8   0.883384  \n",
       "9   0.852261  \n",
       "10  0.764051  \n",
       "11  0.732052  \n",
       "12  0.652084  \n",
       "13  0.630021  \n",
       "14  0.630021  "
      ]
     },
     "execution_count": 189,
     "metadata": {},
     "output_type": "execute_result"
    }
   ],
   "source": [
    "update_performance('Random Forest rfe 0.75',ytest,ypred_rfe1)"
   ]
  },
  {
   "cell_type": "code",
   "execution_count": 196,
   "id": "57c87578",
   "metadata": {},
   "outputs": [
    {
     "data": {
      "text/plain": [
       "['age', 'balance', 'duration', 'pdays', 'job', 'day', 'month']"
      ]
     },
     "execution_count": 196,
     "metadata": {},
     "output_type": "execute_result"
    }
   ],
   "source": [
    "rfe=RFE(estimator=rf,n_features_to_select=0.50)\n",
    "rfe.fit(xtrain,ytrain)\n",
    "rfe1=pd.DataFrame({'columns':rfe.feature_names_in_,\n",
    "                  'rank':rfe.ranking_})\n",
    "rfe1[rfe1['rank']==1][['columns']].values.tolist()\n",
    "l=[]\n",
    "\n",
    "for i in rfe1[rfe1['rank']==1][['columns']].values:\n",
    "    l.extend(list(i))\n",
    "l"
   ]
  },
  {
   "cell_type": "code",
   "execution_count": 197,
   "id": "56ea90d8",
   "metadata": {},
   "outputs": [],
   "source": [
    "xtrain_new1=xtrain[l]\n",
    "xtest_new1=xtest[l]"
   ]
  },
  {
   "cell_type": "code",
   "execution_count": 198,
   "id": "5c7f9962",
   "metadata": {},
   "outputs": [
    {
     "name": "stdout",
     "output_type": "stream",
     "text": [
      "Train 0.9999460654765115\n",
      "Test 0.9084295032614149\n"
     ]
    }
   ],
   "source": [
    "rfe1=RandomForestClassifier(random_state=1)\n",
    "rfe1.fit(xtrain_new1,ytrain)\n",
    "ypred_rfe1=rfe1.predict(xtest_new1)\n",
    "print('Train',f1_score(ytrain,rfe1.predict(xtrain_new1)))\n",
    "print('Test',f1_score(ytest,ypred_rfe1))"
   ]
  },
  {
   "cell_type": "markdown",
   "id": "d4d14aa3",
   "metadata": {},
   "source": [
    "## Final model"
   ]
  },
  {
   "cell_type": "markdown",
   "id": "97f433e7",
   "metadata": {},
   "source": [
    "### Model Evaluation and Feature Importance for rf19"
   ]
  },
  {
   "cell_type": "code",
   "execution_count": 26,
   "id": "0c98587a",
   "metadata": {},
   "outputs": [
    {
     "name": "stdout",
     "output_type": "stream",
     "text": [
      "              precision    recall  f1-score   support\n",
      "\n",
      "           0       0.98      0.82      0.89      9271\n",
      "           1       0.69      0.96      0.80      3906\n",
      "\n",
      "    accuracy                           0.86     13177\n",
      "   macro avg       0.83      0.89      0.85     13177\n",
      "weighted avg       0.89      0.86      0.86     13177\n",
      "\n"
     ]
    }
   ],
   "source": [
    "print(classification_report(ytest,ypred_rf19))"
   ]
  },
  {
   "cell_type": "code",
   "execution_count": 27,
   "id": "20151fea",
   "metadata": {},
   "outputs": [
    {
     "data": {
      "text/plain": [
       "<sklearn.metrics._plot.confusion_matrix.ConfusionMatrixDisplay at 0x21fe6f051f0>"
      ]
     },
     "execution_count": 27,
     "metadata": {},
     "output_type": "execute_result"
    },
    {
     "data": {
      "image/png": "[encoded data removed]",
      "text/plain": [
       "<Figure size 640x480 with 2 Axes>"
      ]
     },
     "metadata": {},
     "output_type": "display_data"
    }
   ],
   "source": [
    "ConfusionMatrixDisplay.from_predictions(ytest,ypred_rf19)"
   ]
  },
  {
   "cell_type": "code",
   "execution_count": 28,
   "id": "0ff12c67",
   "metadata": {},
   "outputs": [],
   "source": [
    "rf_imp_19=rf19.feature_importances_\n",
    "rf_feat_imp_19=pd.Series(rf_imp_19,df3.columns[0:len(df3.columns)-1])"
   ]
  },
  {
   "cell_type": "code",
   "execution_count": 29,
   "id": "dad6abde",
   "metadata": {},
   "outputs": [
    {
     "data": {
      "text/plain": [
       "age          0.069516\n",
       "balance      0.065291\n",
       "duration     0.486157\n",
       "campaign     0.027027\n",
       "pdays        0.062670\n",
       "previous     0.030039\n",
       "job          0.027562\n",
       "marital      0.014607\n",
       "education    0.014179\n",
       "default      0.000600\n",
       "housing      0.057519\n",
       "loan         0.011833\n",
       "day          0.054532\n",
       "month        0.078470\n",
       "dtype: float64"
      ]
     },
     "execution_count": 29,
     "metadata": {},
     "output_type": "execute_result"
    }
   ],
   "source": [
    "rf_feat_imp_19"
   ]
  },
  {
   "cell_type": "code",
   "execution_count": 25,
   "id": "6da89fdb",
   "metadata": {},
   "outputs": [
    {
     "name": "stdout",
     "output_type": "stream",
     "text": [
      "Train 0.8356471935853379\n",
      "Test 0.8015873015873017\n"
     ]
    }
   ],
   "source": [
    "rf19=RandomForestClassifier(random_state=1,n_estimators=50,min_samples_split=3,min_samples_leaf=9,class_weight={0:1,1:4})\n",
    "rf19.fit(xtrain,ytrain)\n",
    "ypred_rf19=rf19.predict(xtest)\n",
    "print('Train',f1_score(ytrain,rf19.predict(xtrain)))\n",
    "print('Test',f1_score(ytest,ypred_rf19))"
   ]
  },
  {
   "cell_type": "code",
   "execution_count": 34,
   "id": "d1809995",
   "metadata": {},
   "outputs": [
    {
     "data": {
      "text/plain": [
       "4.849213057134776"
      ]
     },
     "execution_count": 34,
     "metadata": {},
     "output_type": "execute_result"
    }
   ],
   "source": [
    "metrics.log_loss(ytest,ypred_rf19)"
   ]
  },
  {
   "cell_type": "code",
   "execution_count": 35,
   "id": "419724ee",
   "metadata": {},
   "outputs": [
    {
     "data": {
      "image/png": "[encoded data removed]",
      "text/plain": [
       "<Figure size 640x480 with 1 Axes>"
      ]
     },
     "metadata": {},
     "output_type": "display_data"
    }
   ],
   "source": [
    "y_pred_prob_rf19=rf19.predict_proba(xtest)[:,1]\n",
    "fpr,tpr,thresholds=roc_curve(ytest,y_pred_prob_rf19)\n",
    "auc_score_rf19=roc_auc_score(ytest,y_pred_prob_rf19)\n",
    "plt.plot(fpr,tpr,label='RF19 Model (AUC Score = %0.4f)'%auc_score_rf19)\n",
    "plt.xlim([-0.1, 1.1])\n",
    "plt.ylim([-0.1, 1.1])\n",
    "plt.plot([0, 1], [0, 1],'r--')\n",
    "\n",
    "plt.title('RF19 model', fontsize = 15)\n",
    "plt.xlabel('False positive rate (1-Specificity)', fontsize = 15)\n",
    "plt.ylabel('True positive rate (Sensitivity)', fontsize = 15)\n",
    "\n",
    "plt.legend(loc = 'lower right')\n",
    "plt.grid(True)"
   ]
  },
  {
   "cell_type": "code",
   "execution_count": 36,
   "id": "a67d6652",
   "metadata": {},
   "outputs": [
    {
     "data": {
      "text/plain": [
       "<AxesSubplot:>"
      ]
     },
     "execution_count": 36,
     "metadata": {},
     "output_type": "execute_result"
    },
    {
     "data": {
      "image/png": "[encoded data removed]",
      "text/plain": [
       "<Figure size 1500x800 with 1 Axes>"
      ]
     },
     "metadata": {},
     "output_type": "display_data"
    }
   ],
   "source": [
    "plt.figure(figsize=(15,8))\n",
    "rf_feat_imp_19.plot(kind='barh')"
   ]
  },
  {
   "cell_type": "markdown",
   "id": "3848b970",
   "metadata": {},
   "source": [
    "The F1 score is a metric that combines precision and recall. For  training set, we got the F1 score is approximately 0.836, while for the test set, it is about 0.802. This suggests that the model performs well on both the training and test data, indicating a good balance between precision and recall. The F1 scores on both the training and test sets are relatively high, indicating that the model effectively captures both false positives and false negatives. This suggests a well-generalized model that is not overfitting to the training data. The RandomForestClassifier is configured with specific hyperparameters, such as n_estimators=50, min_samples_split=3, min_samples_leaf=9, and class_weight={0: 1, 1: 4}. These settings imply the use of 50 decision trees in the forest, a minimum of 3 samples required to split an internal node, a minimum of 9 samples required to be a leaf node, and a class weight adjustment to handle class imbalance. A score of 0.9522 is close to the maximum value of 1.0, indicating excellent discrimination ability of the  model. This means that the model is very effective at distinguishing between the positive and negative classes. Duration has the highest importance score (0.486), suggesting it is the most influential feature in making predictions.\n",
    "month (0.078), age (0.069), and balance (0.065) also have notable importance.\n",
    "The F1-score combines precision and recall into a single metric. An F1-score of 0.80 suggests a good balance between precision and recall for class 1"
   ]
  }
 ],
 "metadata": {
  "kernelspec": {
   "display_name": "Python 3 (ipykernel)",
   "language": "python",
   "name": "python3"
  },
  "language_info": {
   "codemirror_mode": {
    "name": "ipython",
    "version": 3
   },
   "file_extension": ".py",
   "mimetype": "text/x-python",
   "name": "python",
   "nbconvert_exporter": "python",
   "pygments_lexer": "ipython3",
   "version": "3.9.13"
  }
 },
 "nbformat": 4,
 "nbformat_minor": 5
}
